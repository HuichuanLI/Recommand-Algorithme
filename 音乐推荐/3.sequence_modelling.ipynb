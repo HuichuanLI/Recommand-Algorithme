{
 "cells": [
  {
   "cell_type": "markdown",
   "metadata": {},
   "source": [
    "## 歌曲序列建模\n",
    "by [@寒小阳](http://blog.csdn.net/han_xiaoyang)"
   ]
  },
  {
   "cell_type": "markdown",
   "metadata": {},
   "source": [
    "### NLP场景下\n",
    "我是中国人 => 我 是 中国 人<br>\n",
    "我 => [1,0,0,0]   1*500<br>\n",
    "是 => [0,1,0,0]   1*500<br>\n",
    "...<br>\n",
    "1*4 vector\n",
    "one-hot encoding\n",
    "\n",
    "word => vector\n",
    "\n",
    "distance similarity"
   ]
  },
  {
   "cell_type": "markdown",
   "metadata": {},
   "source": [
    "我们来分析一下现在的场景，我们实际需要计算user或者item的相似度，协同过滤等neighborhood的方法是其中的一种。<br>\n",
    "关于相近度这个问题，我们不是第一次遇见，我们在自然语言处理的机器学习问题中，需要把词映射成词向量，最简单的方式是one-hot，而为了达到更好的效果，我们通常需要捕捉一下近义词(比如“宾馆”和“酒店”)，我们会用到一个方法，叫做word2vec。"
   ]
  },
  {
   "cell_type": "markdown",
   "metadata": {},
   "source": [
    "![](./word2vec.png)"
   ]
  },
  {
   "cell_type": "markdown",
   "metadata": {},
   "source": [
    "```python\n",
    "result = model.most_similar(u\"习近平\")\n",
    "for e in result:\n",
    "    print e[0], e[1]\n",
    "```\n",
    "```     \n",
    "胡锦涛 0.809472680092\n",
    "江泽民 0.754633367062\n",
    "李克强 0.739740967751\n",
    "贾庆林 0.737033963203\n",
    "曾庆红 0.732847094536\n",
    "吴邦国 0.726941585541\n",
    "总书记 0.719057679176\n",
    "李瑞环 0.716384887695\n",
    "温家宝 0.711952567101\n",
    "王岐山 0.703570842743\n",
    "```"
   ]
  },
  {
   "cell_type": "markdown",
   "metadata": {},
   "source": [
    "说起来word2vec，其实就是把词映射成一定维度的稠密向量，同时保持住词和词之间的关联性，主要体现在(欧式)距离的远近上。\n",
    "\n",
    "那么问题来了，word2vec为什么能够学习到这样的结果？\n",
    "\n",
    "因为我们相信“物以类聚，人以群分” “一个人的层次与他身边最近的一些人是差不多的”\n",
    "\n",
    "同样的考虑，我们是不是可以认为，一个歌单里的歌曲，相互之间都有一定的关联性呢？就像句子中的词一样。答案是，是的！\n",
    "\n",
    "咱们来写个程序跑一把。"
   ]
  },
  {
   "cell_type": "markdown",
   "metadata": {},
   "source": [
    "### 从word2vec到song2vec"
   ]
  },
  {
   "cell_type": "markdown",
   "metadata": {},
   "source": [
    "我们把歌曲的id序列取出来，类比于分完词后的句子，送到word2vec中去学习一下，看看会有什么效果。"
   ]
  },
  {
   "cell_type": "code",
   "execution_count": 1,
   "metadata": {
    "collapsed": true
   },
   "outputs": [],
   "source": [
    "#coding: utf-8\n",
    "import multiprocessing\n",
    "import gensim\n",
    "import sys\n",
    "from random import shuffle\n",
    "\n",
    "def parse_playlist_get_sequence(in_line, playlist_sequence):\n",
    "\tsong_sequence = []\n",
    "\tcontents = in_line.strip().split(\"\\t\")\n",
    "\t# 解析歌单序列\n",
    "\tfor song in contents[1:]:\n",
    "\t\ttry:\n",
    "\t\t\tsong_id, song_name, artist, popularity = song.split(\":::\")\n",
    "\t\t\tsong_sequence.append(song_id)\n",
    "\t\texcept:\n",
    "\t\t\tprint \"song format error\"\n",
    "\t\t\tprint song+\"\\n\"\n",
    "\tfor i in range(len(song_sequence)):\n",
    "\t\tshuffle(song_sequence)\n",
    "\t\tplaylist_sequence.append(song_sequence)\n",
    "\n",
    "\n",
    "def train_song2vec(in_file, out_file):\n",
    "\t#所有歌单序列\n",
    "\tplaylist_sequence = []\n",
    "\t#遍历所有歌单\n",
    "\tfor line in open(in_file):\n",
    "\t\tparse_playlist_get_sequence(line, playlist_sequence)\n",
    "\t#使用word2vec训练\n",
    "\tcores = multiprocessing.cpu_count()\n",
    "\tprint \"using all \"+str(cores)+\" cores\"\n",
    "\tprint \"Training word2vec model...\"\n",
    "\tmodel = gensim.models.Word2Vec(sentences=playlist_sequence, size=150, min_count=3, window=7, workers=cores)\n",
    "\tprint \"Saving model...\"\n",
    "\tmodel.save(out_file)"
   ]
  },
  {
   "cell_type": "code",
   "execution_count": null,
   "metadata": {},
   "outputs": [],
   "source": [
    "song_sequence_file = \"./popular.playlist\"\n",
    "model_file = \"./song2vec.model\"\n",
    "train_song2vec(song_sequence_file, model_file)"
   ]
  },
  {
   "cell_type": "markdown",
   "metadata": {},
   "source": [
    "模型已经训练完了，咱们来试一把预测，看看效果\n",
    "\n",
    "这个预测的过程，实际上就是对某首歌曲，查找“最近”的歌曲（向量距离最近的歌曲）"
   ]
  },
  {
   "cell_type": "code",
   "execution_count": 3,
   "metadata": {
    "collapsed": true
   },
   "outputs": [],
   "source": [
    "import cPickle as pickle\n",
    "song_dic = pickle.load(open(\"popular_song.pkl\",\"rb\"))\n",
    "model_str = \"./song2vec.model\"\n",
    "model = gensim.models.Word2Vec.load(model_str)"
   ]
  },
  {
   "cell_type": "code",
   "execution_count": 7,
   "metadata": {},
   "outputs": [
    {
     "name": "stdout",
     "output_type": "stream",
     "text": [
      " 287140 梦不落\t孙燕姿\n",
      "445845011 狂想.Rhapsody\t冯建宇\n",
      "110557 灰色空间\t罗志祥\n",
      "10308003 偏偏喜欢你\t陈百强\n",
      "28029940 拥抱的理由\t尹熙水\n",
      "28029946 三个人的错\t王菀之\n",
      "28029947 拥抱的理由\t李泰\n",
      "27591219 拍错拖\t卫兰\n",
      "28029949 我是你的谁\t张含韵\n",
      "31134863 没有用\t徐誉滕\n"
     ]
    }
   ],
   "source": [
    "for song in song_dic.keys()[:10]:\n",
    "    print song, song_dic[song]"
   ]
  },
  {
   "cell_type": "code",
   "execution_count": 8,
   "metadata": {},
   "outputs": [
    {
     "name": "stdout",
     "output_type": "stream",
     "text": [
      "440357032 七里香\t李蚊香\n",
      "\n",
      "相似歌曲 和 相似度 分别为:\n",
      "\t东风志 钢琴竹笛合奏\t昼夜 0.995016634464\n",
      "\t少年熬至老\t少恭 0.994233191013\n",
      "\t【钢琴】forever love\t昼夜 0.98337417841\n",
      "\t并骑(无念白版)\t群星 0.976293027401\n",
      "\t造花の距離感（Cover：miku）\t李蚊香 0.966003715992\n",
      "\t过我的生活\t伦桑 0.950182139874\n",
      "\t3 7 20 1（Cover：曹格）\t萧忆情Alex 0.943133831024\n",
      "\t爱如潮水（Cover 张信哲）\t柏凝 0.915985286236\n",
      "\t倾君\t白止 0.897894084454\n",
      "\t一纸流年\t伦桑 0.872422993183\n",
      "\n",
      "\n",
      "27906826 你有本事抢男人\t雪姨\n",
      "\n",
      "相似歌曲 和 相似度 分别为:\n",
      "\t风云之歌\t周思贤 0.901113092899\n",
      "\t普通disco\t葛平 0.877337396145\n",
      "\t循环\t周天然 0.842635333538\n",
      "\t恋·koigokoro (二胡版)\t永安二胡 0.838205397129\n",
      "\t送别\t王俊雄 0.829163253307\n",
      "\t入站歌\t葛平 0.82365167141\n",
      "\t我是谁\t周华健 0.820580601692\n",
      "\t蓝皮鼠和大脸猫\t章中锦 0.810702621937\n",
      "\t平凡之路\t葛平 0.790481626987\n",
      "\tRags To Rings\tMark Petrie 0.782146155834\n",
      "\n",
      "\n",
      "28048161 高地\t汪峰\n",
      "\n",
      "相似歌曲 和 相似度 分别为:\n",
      "\t夜已变得骚了\t刘美君 0.99225628376\n",
      "\t垂涎\t容祖儿 0.98558139801\n",
      "\t演歌\t陈珊妮 0.763966083527\n",
      "\t吸你\t蓝奕邦 0.696066439152\n",
      "\t馋\t杨宗纬 0.687027215958\n",
      "\t莫呼洛迦(粤)\t辛晓琪 0.667171180248\n",
      "\t你骚你骚\t花粥 0.65488743782\n",
      "\t叮当\t樊竹青 0.611336767673\n",
      "\t一个人生活\t刘洪喆 0.600493013859\n",
      "\t深夜港湾\t关淑怡 0.583668828011\n",
      "\n",
      "\n",
      "29482465 I'll be the one\tHΛL\n",
      "\n",
      "相似歌曲 和 相似度 分别为:\n",
      "\tJai Ho\tAlaa Wardi 0.981494724751\n",
      "\t求佛\t群星 0.970501363277\n",
      "\t火法帝(wow抒情版)\t安蕾尔 0.937729179859\n",
      "\t浙江温州江南皮革厂倒闭了(小黄人Remix)\t吴承俊 0.936187624931\n",
      "\tKhachaturian Sabre Dance\t马克西姆.姆尔维察 0.892346084118\n",
      "\t格斗宝贝\t小緣 0.888614952564\n",
      "\tHe Tought Me How To Yodel\tJanette 0.888091146946\n",
      "\t兔子舞\t群星 0.875236034393\n",
      "\tShe Taught Me How To Yodel\tFrank Ifield 0.789355456829\n",
      "\t夏影\t司夏 0.746169865131\n",
      "\n",
      "\n",
      "427609090 戏语花\t玄觞\n",
      "\n",
      "相似歌曲 和 相似度 分别为:\n",
      "\t［酒肆闲谈7］唐毒·却为相思困（Cover 《怜香惜玉》蔡卓妍）\t以冬 0.747600257397\n",
      "\t27 Club\tChløë Black 0.680299222469\n",
      "\tFearless\tDana Lowrey 0.644128918648\n",
      "\t墨-甩墨\t墨明棋妙 0.631546854973\n",
      "\t大浪淘沙\t玄觞 0.610805392265\n",
      "\t可念不可说\t双笙 0.608274400234\n",
      "\t情诗\t盛兰 0.588823914528\n",
      "\tLet It Fall\tEmmelie de Forest 0.584996402264\n",
      "\t农业重金属\t阿宝 0.579464912415\n",
      "\t醉寒江(剧情版)\tW.K. 0.579265356064\n",
      "\n",
      "\n",
      "429461406 一笑倾城\t卡修Rui\n",
      "\n",
      "相似歌曲 和 相似度 分别为:\n",
      "\t生死劫\t五音Jw 0.996446490288\n",
      "\t戏说浮生\t妖扬 0.990726053715\n",
      "\t不死之身\t五音Jw 0.981608748436\n",
      "\t人间沙（电影《爵迹》片尾曲）\t妖扬 0.960231304169\n",
      "\t风起稻香\t小义学长 0.940891683102\n",
      "\t结绳踏歌\t清弄 0.932627618313\n",
      "\t情痴\t涵昱 0.899718165398\n",
      "\t【钢琴】有情燕\t昼夜 0.897402644157\n",
      "\t江山雪\t俺酱 0.895662069321\n",
      "\t有凤归兮\t白止 0.893977999687\n",
      "\n",
      "\n",
      "27317272 Heart of Gold\tNeil Young\n",
      "\n",
      "相似歌曲 和 相似度 分别为:\n",
      "\tOur God\tChris Tomlin 0.994709730148\n",
      "\tくちづけDiamond\tWEAVER 0.990273892879\n",
      "\tgunland\t梶浦由記 0.965648412704\n",
      "\t思念\tOELoop 0.924435198307\n",
      "\tSwagger (Original Radio edit)\tBombs Away 0.791412055492\n",
      "\tPrimadonna\tMarina and the Diamonds 0.747615873814\n",
      "\tMy Story\tMaximilian Hecker 0.716491341591\n",
      "\t刺激2005\t赵英俊 0.679443955421\n",
      "\tI Am Falling Now\tMaximilian Hecker 0.656546652317\n",
      "\tTrip\tAxero 0.651219725609\n",
      "\n",
      "\n",
      "415085693 【钢琴】皈依\t昼夜\n",
      "\n",
      "相似歌曲 和 相似度 分别为:\n",
      "\t刚好遇见你\t昼夜 0.985483407974\n",
      "\t【10p】命运 ——网游小说《猎者天下》群像歌曲（Cover Memoria）\t人衣大人 0.982731580734\n",
      "\t世末歌者（Cover：乐正凌）\t萧忆情Alex 0.967274367809\n",
      "\t【钢琴】雨落长安\t昼夜 0.96506023407\n",
      "\t是你\t灰白 0.921878576279\n",
      "\t南部小城\t李蚊香 0.899908363819\n",
      "\t【钢琴】棠梨煎雪\t昼夜 0.89453458786\n",
      "\t一剑逍遥\t小义学长 0.892150878906\n",
      "\t【钢琴】dying in the sun\t昼夜 0.884359836578\n",
      "\t【钢琴】团子大家族\t昼夜 0.827963769436\n",
      "\n",
      "\n",
      "94284 你怎么舍得我难过\t黄品源\n",
      "\n",
      "相似歌曲 和 相似度 分别为:\n",
      "\tReflection\tChristina Aguilera 0.651202857494\n",
      "\tMad World\tGary Jules 0.627882063389\n",
      "\t浏阳河\t群星 0.599958539009\n",
      "\t带我到山顶\t康康 0.595830976963\n",
      "\t相约\t潘劲东 0.575638473034\n",
      "\t我不想说\t杨钰莹 0.57261377573\n",
      "\tLittlest Things\tLily Allen 0.567334592342\n",
      "\t高手\t潘玮柏 0.563842952251\n",
      "\t痛彻心扉\t姜玉阳 0.553718030453\n",
      "\t情感的禁区\t刘德华 0.548915028572\n",
      "\n",
      "\n",
      "27808781 别误会\t胡彦斌\n",
      "\n",
      "相似歌曲 和 相似度 分别为:\n",
      "\t断了线\t柯以敏 0.909942626953\n",
      "\t你要的天堂\t孙伯纶 0.832941949368\n",
      "\t再唱一首\t阿杜 0.738038182259\n",
      "\t口的形状\t林宥嘉 0.700095236301\n",
      "\t贝加尔湖畔\tPaca人声乐团 0.679287731647\n",
      "\t不要再孤单 纯人声阿卡贝拉版（cover徐佳莹）\tRefresh茶点人声乐团 0.675665557384\n",
      "\t可惜不是你\tPennYo宾大朋友阿卡贝拉 0.666701853275\n",
      "\t黑夜不再来\t陈奕迅 0.655561387539\n",
      "\t无处不乐\t曲婉婷 0.636273682117\n",
      "\t我没那么爱你\t丁当 0.617847204208\n",
      "\n",
      "\n"
     ]
    }
   ],
   "source": [
    "song_id_list = song_dic.keys()[1000:1500:50]\n",
    "for song_id in song_id_list:\n",
    "    result_song_list = model.most_similar(song_id)\n",
    "\n",
    "    print song_id, song_dic[song_id]\n",
    "    print \"\\n相似歌曲 和 相似度 分别为:\"\n",
    "    for song in result_song_list:\n",
    "        print \"\\t\", song_dic[song[0]], song[1]\n",
    "    print \"\\n\""
   ]
  },
  {
   "cell_type": "markdown",
   "metadata": {},
   "source": [
    "### 进一步思考"
   ]
  },
  {
   "cell_type": "markdown",
   "metadata": {},
   "source": [
    "所以我们用word2vec学会了哪些歌曲和哪些歌曲最接近。\n",
    "\n",
    "我们来思考一些很现实同时又很难解决的问题。比如：\n",
    "#### 1）冷启动问题\n",
    "我们经常会遇到冷启动的问题，比如没有任何信息的歌曲，我们如何对它做推荐呢？\n",
    "* 如果是歌手发行的新歌曲，我们怎么进行推荐呢？\n",
    "* 如果我听完(并收藏)了一首很冷门的歌，怎么进行推荐呢？\n",
    "\n",
    "我们知道新歌(或者小众的歌)是非常难和其他的歌关联上的，我们有的信息太少了(很少有用户在它上面发生行为)。\n",
    "\n",
    "1.1 一种解决办法当然是推荐热门的歌曲，但是其实没从个人兴趣出发，我们知道这并不是最好的办法，并没有太大的卵用。\n",
    "\n",
    "1.2 我们把问题的粒度放粗一点，用同样的思路，比如一个可考虑的解决方案是，我们把**歌曲**的粒度上升到对应的**歌手**，把刚才的song_list替换成artist_list，重新用word2vec建模，这样我们可以得到和一个歌手最相关(接近)的歌手，再推荐这个歌手最热门的歌曲，相对1.1的方法针对性强一些。\n",
    "\n",
    "商品 => 品类<br>\n",
    "品类list => 送到word2vec里面去学习<br>\n",
    "[上衣，上衣，上衣，牛仔裤，牛仔裤,连衣裙...]\n",
    "\n",
    "#### 2）用户兴趣预测问题\n",
    "我们刚才完成的功能，类似酷狗音乐和网易音乐里针对一首歌的**“相似音乐”**，那么问题又来了，如果我们现在要对一个user用这套song2vec的方式推荐，我们怎么做呢？\n",
    "\n",
    "* 每个人的兴趣都是有时效性的，这意味着说，3年前我喜欢王菲的歌，去年我喜欢五月天的歌，而今年我可能就改摇滚路线，喜欢汪峰的歌了。\n",
    "* 每一首歌的热度也是不一样的，有一些热门的歌，如果用户能喜欢，当然是首选\n",
    "\n",
    "那么，我们来做一个粗暴一点点的处理，把这2个维度拉进来，一起来针对一个用户做推荐。\n",
    "\n",
    "**把每个用户喜欢(收藏)过的歌，沿着时间轴排好，同时由近到远给不同的衰减因子(比如最近一首歌是1，前一首是0.98，再前一首是0.98^2，以此类推...)，同时我们针对不同的歌曲热度，给定不同的推荐因子(比如热度100的是1，热度80的是0.9...)，每一首歌都可以拿回一个song2vec的推荐列表和对应的相似度，对相似度以时间衰减因子和热度权重进行加权，最后的结果排序后，展示给用户。"
   ]
  },
  {
   "cell_type": "code",
   "execution_count": null,
   "metadata": {
    "collapsed": true
   },
   "outputs": [],
   "source": []
  }
 ],
 "metadata": {
  "kernelspec": {
   "display_name": "Python 2",
   "language": "python",
   "name": "python2"
  },
  "language_info": {
   "codemirror_mode": {
    "name": "ipython",
    "version": 2
   },
   "file_extension": ".py",
   "mimetype": "text/x-python",
   "name": "python",
   "nbconvert_exporter": "python",
   "pygments_lexer": "ipython2",
   "version": "2.7.12"
  }
 },
 "nbformat": 4,
 "nbformat_minor": 1
}
