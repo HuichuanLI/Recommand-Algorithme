{
 "cells": [
  {
   "cell_type": "code",
   "execution_count": 1,
   "metadata": {
    "ExecuteTime": {
     "end_time": "2020-08-30T08:55:12.798275Z",
     "start_time": "2020-08-30T08:55:12.236226Z"
    }
   },
   "source": [
    "import os\n",
    "import scipy.sparse as sp\n",
    "import pandas as pd\n",
    "import numpy as np"
   ],
   "outputs": []
  },
  {
   "cell_type": "code",
   "execution_count": 58,
   "metadata": {
    "ExecuteTime": {
     "end_time": "2020-08-30T09:51:21.077431Z",
     "start_time": "2020-08-30T09:51:21.073012Z"
    }
   },
   "source": [
    "class Dataset(object):\n",
    "    def __init__(self, path):\n",
    "        self.trainMatrix = self.load_rating_file_as_matrix(path + \".train.rating\")\n",
    "        self.testRatings = self.load_rating_file_as_list(path + \".test.rating\")\n",
    "        self.testNegatives = self.load_negative_file(path + \".test.negative\")\n",
    "        assert len(self.testRatings) == len(self.testNegatives)\n",
    "        \n",
    "        self.num_users, self.num_items = self.trainMatrix.shape\n",
    "\n",
    "    def load_rating_file_as_list(self, filename):\n",
    "        df = pd.read_csv(filename, sep=\"\\t\")\n",
    "        ratingList = list(zip(df.userid.tolist(), df.itemid.tolist()))\n",
    "        return ratingList\n",
    "    \n",
    "    def load_negative_file(self, filename):\n",
    "        df = pd.read_csv(filename, sep=\"\\t\")\n",
    "        negativeList = df.iloc[:, 1:].values.tolist()\n",
    "        return negativeList\n",
    "\n",
    "    def load_rating_file_as_matrix(self, filename):\n",
    "        df = pd.read_csv(filename, sep=\"\\t\")\n",
    "        num_users = df.userid.max()\n",
    "        num_items = df.itemid.max()\n",
    "        mat = sp.dok_matrix((num_users + 1, num_items + 1), dtype=np.float32)\n",
    "        interactions = df[['userid', 'itemid']].values.tolist()\n",
    "        # [(0, 2969), (0, 1178), (0, 1574), (0, 957)]\n",
    "        for user, item in interactions:\n",
    "            mat[user, item] = 1.\n",
    "        # [((0, 2969), 1.0), ((0, 1178), 1.0), ((0, 1574), 1.0), ((0, 957), 1.0)]\n",
    "        return mat"
   ],
   "outputs": []
  },
  {
   "cell_type": "code",
   "execution_count": 59,
   "metadata": {
    "ExecuteTime": {
     "end_time": "2020-08-30T09:51:34.579446Z",
     "start_time": "2020-08-30T09:51:21.970214Z"
    }
   },
   "source": [
    "datadir = \"Data_Javier\"\n",
    "dataname = \"ml-1m\"\n",
    "dataset = Dataset(os.path.join(datadir, dataname))\n",
    "train, testRatings, testNegatives = dataset.trainMatrix, dataset.testRatings, dataset.testNegatives"
   ],
   "outputs": []
  },
  {
   "cell_type": "code",
   "execution_count": 60,
   "metadata": {
    "ExecuteTime": {
     "end_time": "2020-08-30T09:52:18.488361Z",
     "start_time": "2020-08-30T09:52:18.484375Z"
    }
   },
   "source": [
    "train.shape"
   ],
   "outputs": []
  },
  {
   "cell_type": "code",
   "execution_count": 61,
   "metadata": {
    "ExecuteTime": {
     "end_time": "2020-08-30T09:52:19.345605Z",
     "start_time": "2020-08-30T09:52:19.341560Z"
    }
   },
   "source": [
    "testRatings[:10]"
   ],
   "outputs": []
  },
  {
   "cell_type": "code",
   "execution_count": 62,
   "metadata": {
    "ExecuteTime": {
     "end_time": "2020-08-30T09:52:21.426496Z",
     "start_time": "2020-08-30T09:52:21.423627Z"
    }
   },
   "source": [
    "n_users, n_items = train.shape"
   ],
   "outputs": []
  },
  {
   "cell_type": "code",
   "execution_count": 63,
   "metadata": {
    "ExecuteTime": {
     "end_time": "2020-08-30T09:52:22.135112Z",
     "start_time": "2020-08-30T09:52:22.131078Z"
    }
   },
   "source": [
    "n_users, n_items"
   ],
   "outputs": []
  },
  {
   "cell_type": "code",
   "execution_count": 74,
   "metadata": {
    "ExecuteTime": {
     "end_time": "2020-08-30T10:17:46.417007Z",
     "start_time": "2020-08-30T10:17:46.159039Z"
    }
   },
   "source": [
    "filename = \"Data_Javier/ml-1m.train.rating\"\n",
    "df = pd.read_csv(filename, sep=\"\\t\")\n",
    "df.head()"
   ],
   "outputs": []
  },
  {
   "cell_type": "code",
   "execution_count": 78,
   "metadata": {
    "ExecuteTime": {
     "end_time": "2020-08-30T10:18:31.574509Z",
     "start_time": "2020-08-30T10:18:31.565710Z"
    }
   },
   "source": [
    "u_0 = df[df[\"userid\"] == 0]\n",
    "u_0.head()"
   ],
   "outputs": []
  },
  {
   "cell_type": "code",
   "execution_count": 82,
   "metadata": {
    "ExecuteTime": {
     "end_time": "2020-08-30T10:19:06.582940Z",
     "start_time": "2020-08-30T10:19:06.580273Z"
    }
   },
   "source": [
    "u0_items = list(u_0['itemid'])"
   ],
   "outputs": []
  },
  {
   "cell_type": "code",
   "execution_count": 87,
   "metadata": {
    "ExecuteTime": {
     "end_time": "2020-08-30T10:19:53.507200Z",
     "start_time": "2020-08-30T10:19:53.502595Z"
    }
   },
   "source": [
    "u0_items"
   ],
   "outputs": []
  },
  {
   "cell_type": "code",
   "execution_count": 88,
   "metadata": {
    "ExecuteTime": {
     "end_time": "2020-08-30T10:20:13.917407Z",
     "start_time": "2020-08-30T10:20:13.913101Z"
    }
   },
   "source": [
    "len(u0_items)"
   ],
   "outputs": []
  },
  {
   "cell_type": "code",
   "execution_count": 83,
   "metadata": {
    "ExecuteTime": {
     "end_time": "2020-08-30T10:19:10.074813Z",
     "start_time": "2020-08-30T10:19:10.071328Z"
    }
   },
   "source": [
    "u0_items[:10]"
   ],
   "outputs": []
  },
  {
   "cell_type": "code",
   "execution_count": 85,
   "metadata": {
    "ExecuteTime": {
     "end_time": "2020-08-30T10:19:38.228493Z",
     "start_time": "2020-08-30T10:19:38.224957Z"
    }
   },
   "source": [
    "3184 in u0_items"
   ],
   "outputs": []
  },
  {
   "cell_type": "code",
   "execution_count": 86,
   "metadata": {
    "ExecuteTime": {
     "end_time": "2020-08-30T10:19:47.686586Z",
     "start_time": "2020-08-30T10:19:47.683257Z"
    }
   },
   "source": [
    "3478 in u0_items"
   ],
   "outputs": []
  },
  {
   "cell_type": "code",
   "execution_count": 69,
   "metadata": {
    "ExecuteTime": {
     "end_time": "2020-08-30T10:15:33.445682Z",
     "start_time": "2020-08-30T10:15:33.332736Z"
    }
   },
   "source": [
    "filename = \"Data_Javier/ml-1m.test.negative\"\n",
    "df = pd.read_csv(filename, sep=\"\\t\")\n",
    "df.head()"
   ],
   "outputs": []
  },
  {
   "cell_type": "code",
   "execution_count": 71,
   "metadata": {
    "ExecuteTime": {
     "end_time": "2020-08-30T10:15:42.703208Z",
     "start_time": "2020-08-30T10:15:42.648813Z"
    }
   },
   "source": [
    "negativeList = df.iloc[:, 1:].values.tolist()\n",
    "negativeList[:2]"
   ],
   "outputs": []
  },
  {
   "cell_type": "code",
   "execution_count": 64,
   "metadata": {
    "ExecuteTime": {
     "end_time": "2020-08-30T09:52:24.103230Z",
     "start_time": "2020-08-30T09:52:24.101159Z"
    }
   },
   "source": [
    "n_neg = 4"
   ],
   "outputs": []
  },
  {
   "cell_type": "code",
   "execution_count": 65,
   "metadata": {
    "ExecuteTime": {
     "end_time": "2020-08-30T09:52:26.019884Z",
     "start_time": "2020-08-30T09:52:26.015870Z"
    }
   },
   "source": [
    "def get_train_instances(train, n_items, n_neg, testNegatives):\n",
    "    user, item, labels = [],[],[]\n",
    "    n_users = train.shape[0]\n",
    "    for (u, i) in train.keys():\n",
    "        # 有过交互的，label 是 1\n",
    "        user.append(u)\n",
    "        item.append(i)\n",
    "        labels.append(1)\n",
    "        # 随机选择一个 item，如果这个 item 用户没有交互过，则 label 为 0\n",
    "        # 在测试集的负采样的样本中，用户u和item也没有过交互\n",
    "        for t in range(n_neg):\n",
    "            j = np.random.randint(n_items)\n",
    "            while ((u, j) in train.keys()) or (j in testNegatives[u]):\n",
    "                j = np.random.randint(n_items)\n",
    "            user.append(u)\n",
    "            item.append(j)\n",
    "            labels.append(0)\n",
    "    return np.array(user), np.array(item), np.array(labels)"
   ],
   "outputs": []
  },
  {
   "cell_type": "code",
   "execution_count": 66,
   "metadata": {
    "ExecuteTime": {
     "end_time": "2020-08-30T09:52:44.507928Z",
     "start_time": "2020-08-30T09:52:26.878884Z"
    }
   },
   "source": [
    "user, item, labels = get_train_instances(train, n_items, n_neg)"
   ],
   "outputs": []
  },
  {
   "cell_type": "code",
   "execution_count": 67,
   "metadata": {
    "ExecuteTime": {
     "end_time": "2020-08-30T09:52:56.921960Z",
     "start_time": "2020-08-30T09:52:56.917316Z"
    }
   },
   "source": [
    "labels[:100]"
   ],
   "outputs": []
  }
 ],
 "metadata": {
  "kernelspec": {
   "display_name": "Python 3",
   "language": "python",
   "name": "python3"
  },
  "language_info": {
   "codemirror_mode": {
    "name": "ipython",
    "version": 3
   },
   "file_extension": ".py",
   "mimetype": "text/x-python",
   "name": "python",
   "nbconvert_exporter": "python",
   "pygments_lexer": "ipython3",
   "version": "3.7.3"
  },
  "toc": {
   "base_numbering": 1,
   "nav_menu": {},
   "number_sections": true,
   "sideBar": true,
   "skip_h1_title": false,
   "title_cell": "Table of Contents",
   "title_sidebar": "Contents",
   "toc_cell": false,
   "toc_position": {},
   "toc_section_display": true,
   "toc_window_display": false
  }
 },
 "nbformat": 4,
 "nbformat_minor": 2
}
