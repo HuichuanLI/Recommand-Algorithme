{
 "cells": [
  {
   "cell_type": "code",
   "execution_count": 1,
   "metadata": {
    "ExecuteTime": {
     "end_time": "2020-08-30T08:55:12.798275Z",
     "start_time": "2020-08-30T08:55:12.236226Z"
    }
   },
   "outputs": [],
   "source": [
    "import os\n",
    "import scipy.sparse as sp\n",
    "import pandas as pd\n",
    "import numpy as np"
   ]
  },
  {
   "cell_type": "code",
   "execution_count": 58,
   "metadata": {
    "ExecuteTime": {
     "end_time": "2020-08-30T09:51:21.077431Z",
     "start_time": "2020-08-30T09:51:21.073012Z"
    }
   },
   "outputs": [],
   "source": [
    "class Dataset(object):\n",
    "    def __init__(self, path):\n",
    "        self.trainMatrix = self.load_rating_file_as_matrix(path + \".train.rating\")\n",
    "        self.testRatings = self.load_rating_file_as_list(path + \".test.rating\")\n",
    "        self.testNegatives = self.load_negative_file(path + \".test.negative\")\n",
    "        assert len(self.testRatings) == len(self.testNegatives)\n",
    "        \n",
    "        self.num_users, self.num_items = self.trainMatrix.shape\n",
    "\n",
    "    def load_rating_file_as_list(self, filename):\n",
    "        df = pd.read_csv(filename, sep=\"\\t\")\n",
    "        ratingList = list(zip(df.userid.tolist(), df.itemid.tolist()))\n",
    "        return ratingList\n",
    "    \n",
    "    def load_negative_file(self, filename):\n",
    "        df = pd.read_csv(filename, sep=\"\\t\")\n",
    "        negativeList = df.iloc[:, 1:].values.tolist()\n",
    "        return negativeList\n",
    "\n",
    "    def load_rating_file_as_matrix(self, filename):\n",
    "        df = pd.read_csv(filename, sep=\"\\t\")\n",
    "        num_users = df.userid.max()\n",
    "        num_items = df.itemid.max()\n",
    "        mat = sp.dok_matrix((num_users + 1, num_items + 1), dtype=np.float32)\n",
    "        interactions = df[['userid', 'itemid']].values.tolist()\n",
    "        # [(0, 2969), (0, 1178), (0, 1574), (0, 957)]\n",
    "        for user, item in interactions:\n",
    "            mat[user, item] = 1.\n",
    "        # [((0, 2969), 1.0), ((0, 1178), 1.0), ((0, 1574), 1.0), ((0, 957), 1.0)]\n",
    "        return mat"
   ]
  },
  {
   "cell_type": "code",
   "execution_count": 59,
   "metadata": {
    "ExecuteTime": {
     "end_time": "2020-08-30T09:51:34.579446Z",
     "start_time": "2020-08-30T09:51:21.970214Z"
    }
   },
   "outputs": [],
   "source": [
    "datadir = \"Data_Javier\"\n",
    "dataname = \"ml-1m\"\n",
    "dataset = Dataset(os.path.join(datadir, dataname))\n",
    "train, testRatings, testNegatives = dataset.trainMatrix, dataset.testRatings, dataset.testNegatives"
   ]
  },
  {
   "cell_type": "code",
   "execution_count": 60,
   "metadata": {
    "ExecuteTime": {
     "end_time": "2020-08-30T09:52:18.488361Z",
     "start_time": "2020-08-30T09:52:18.484375Z"
    }
   },
   "outputs": [
    {
     "data": {
      "text/plain": [
       "(6040, 3706)"
      ]
     },
     "execution_count": 60,
     "metadata": {},
     "output_type": "execute_result"
    }
   ],
   "source": [
    "train.shape"
   ]
  },
  {
   "cell_type": "code",
   "execution_count": 61,
   "metadata": {
    "ExecuteTime": {
     "end_time": "2020-08-30T09:52:19.345605Z",
     "start_time": "2020-08-30T09:52:19.341560Z"
    }
   },
   "outputs": [
    {
     "data": {
      "text/plain": [
       "[(0, 47),\n",
       " (1, 1737),\n",
       " (2, 1900),\n",
       " (3, 1774),\n",
       " (4, 279),\n",
       " (5, 583),\n",
       " (6, 2891),\n",
       " (7, 3033),\n",
       " (8, 2102),\n",
       " (9, 2062)]"
      ]
     },
     "execution_count": 61,
     "metadata": {},
     "output_type": "execute_result"
    }
   ],
   "source": [
    "testRatings[:10]"
   ]
  },
  {
   "cell_type": "code",
   "execution_count": 62,
   "metadata": {
    "ExecuteTime": {
     "end_time": "2020-08-30T09:52:21.426496Z",
     "start_time": "2020-08-30T09:52:21.423627Z"
    }
   },
   "outputs": [],
   "source": [
    "n_users, n_items = train.shape"
   ]
  },
  {
   "cell_type": "code",
   "execution_count": 63,
   "metadata": {
    "ExecuteTime": {
     "end_time": "2020-08-30T09:52:22.135112Z",
     "start_time": "2020-08-30T09:52:22.131078Z"
    }
   },
   "outputs": [
    {
     "data": {
      "text/plain": [
       "(6040, 3706)"
      ]
     },
     "execution_count": 63,
     "metadata": {},
     "output_type": "execute_result"
    }
   ],
   "source": [
    "n_users, n_items"
   ]
  },
  {
   "cell_type": "code",
   "execution_count": 74,
   "metadata": {
    "ExecuteTime": {
     "end_time": "2020-08-30T10:17:46.417007Z",
     "start_time": "2020-08-30T10:17:46.159039Z"
    }
   },
   "outputs": [
    {
     "data": {
      "text/html": [
       "<div>\n",
       "<style scoped>\n",
       "    .dataframe tbody tr th:only-of-type {\n",
       "        vertical-align: middle;\n",
       "    }\n",
       "\n",
       "    .dataframe tbody tr th {\n",
       "        vertical-align: top;\n",
       "    }\n",
       "\n",
       "    .dataframe thead th {\n",
       "        text-align: right;\n",
       "    }\n",
       "</style>\n",
       "<table border=\"1\" class=\"dataframe\">\n",
       "  <thead>\n",
       "    <tr style=\"text-align: right;\">\n",
       "      <th></th>\n",
       "      <th>userid</th>\n",
       "      <th>itemid</th>\n",
       "      <th>rating</th>\n",
       "      <th>timestamp</th>\n",
       "    </tr>\n",
       "  </thead>\n",
       "  <tbody>\n",
       "    <tr>\n",
       "      <th>0</th>\n",
       "      <td>0</td>\n",
       "      <td>2969</td>\n",
       "      <td>4</td>\n",
       "      <td>978300019</td>\n",
       "    </tr>\n",
       "    <tr>\n",
       "      <th>1</th>\n",
       "      <td>0</td>\n",
       "      <td>1178</td>\n",
       "      <td>5</td>\n",
       "      <td>978300055</td>\n",
       "    </tr>\n",
       "    <tr>\n",
       "      <th>2</th>\n",
       "      <td>0</td>\n",
       "      <td>1574</td>\n",
       "      <td>4</td>\n",
       "      <td>978300055</td>\n",
       "    </tr>\n",
       "    <tr>\n",
       "      <th>3</th>\n",
       "      <td>0</td>\n",
       "      <td>957</td>\n",
       "      <td>5</td>\n",
       "      <td>978300055</td>\n",
       "    </tr>\n",
       "    <tr>\n",
       "      <th>4</th>\n",
       "      <td>0</td>\n",
       "      <td>2147</td>\n",
       "      <td>3</td>\n",
       "      <td>978300103</td>\n",
       "    </tr>\n",
       "  </tbody>\n",
       "</table>\n",
       "</div>"
      ],
      "text/plain": [
       "   userid  itemid  rating  timestamp\n",
       "0       0    2969       4  978300019\n",
       "1       0    1178       5  978300055\n",
       "2       0    1574       4  978300055\n",
       "3       0     957       5  978300055\n",
       "4       0    2147       3  978300103"
      ]
     },
     "execution_count": 74,
     "metadata": {},
     "output_type": "execute_result"
    }
   ],
   "source": [
    "filename = \"Data_Javier/ml-1m.train.rating\"\n",
    "df = pd.read_csv(filename, sep=\"\\t\")\n",
    "df.head()"
   ]
  },
  {
   "cell_type": "code",
   "execution_count": 78,
   "metadata": {
    "ExecuteTime": {
     "end_time": "2020-08-30T10:18:31.574509Z",
     "start_time": "2020-08-30T10:18:31.565710Z"
    }
   },
   "outputs": [
    {
     "data": {
      "text/html": [
       "<div>\n",
       "<style scoped>\n",
       "    .dataframe tbody tr th:only-of-type {\n",
       "        vertical-align: middle;\n",
       "    }\n",
       "\n",
       "    .dataframe tbody tr th {\n",
       "        vertical-align: top;\n",
       "    }\n",
       "\n",
       "    .dataframe thead th {\n",
       "        text-align: right;\n",
       "    }\n",
       "</style>\n",
       "<table border=\"1\" class=\"dataframe\">\n",
       "  <thead>\n",
       "    <tr style=\"text-align: right;\">\n",
       "      <th></th>\n",
       "      <th>userid</th>\n",
       "      <th>itemid</th>\n",
       "      <th>rating</th>\n",
       "      <th>timestamp</th>\n",
       "    </tr>\n",
       "  </thead>\n",
       "  <tbody>\n",
       "    <tr>\n",
       "      <th>0</th>\n",
       "      <td>0</td>\n",
       "      <td>2969</td>\n",
       "      <td>4</td>\n",
       "      <td>978300019</td>\n",
       "    </tr>\n",
       "    <tr>\n",
       "      <th>1</th>\n",
       "      <td>0</td>\n",
       "      <td>1178</td>\n",
       "      <td>5</td>\n",
       "      <td>978300055</td>\n",
       "    </tr>\n",
       "    <tr>\n",
       "      <th>2</th>\n",
       "      <td>0</td>\n",
       "      <td>1574</td>\n",
       "      <td>4</td>\n",
       "      <td>978300055</td>\n",
       "    </tr>\n",
       "    <tr>\n",
       "      <th>3</th>\n",
       "      <td>0</td>\n",
       "      <td>957</td>\n",
       "      <td>5</td>\n",
       "      <td>978300055</td>\n",
       "    </tr>\n",
       "    <tr>\n",
       "      <th>4</th>\n",
       "      <td>0</td>\n",
       "      <td>2147</td>\n",
       "      <td>3</td>\n",
       "      <td>978300103</td>\n",
       "    </tr>\n",
       "  </tbody>\n",
       "</table>\n",
       "</div>"
      ],
      "text/plain": [
       "   userid  itemid  rating  timestamp\n",
       "0       0    2969       4  978300019\n",
       "1       0    1178       5  978300055\n",
       "2       0    1574       4  978300055\n",
       "3       0     957       5  978300055\n",
       "4       0    2147       3  978300103"
      ]
     },
     "execution_count": 78,
     "metadata": {},
     "output_type": "execute_result"
    }
   ],
   "source": [
    "u_0 = df[df[\"userid\"] == 0]\n",
    "u_0.head()"
   ]
  },
  {
   "cell_type": "code",
   "execution_count": 82,
   "metadata": {
    "ExecuteTime": {
     "end_time": "2020-08-30T10:19:06.582940Z",
     "start_time": "2020-08-30T10:19:06.580273Z"
    }
   },
   "outputs": [],
   "source": [
    "u0_items = list(u_0['itemid'])"
   ]
  },
  {
   "cell_type": "code",
   "execution_count": 87,
   "metadata": {
    "ExecuteTime": {
     "end_time": "2020-08-30T10:19:53.507200Z",
     "start_time": "2020-08-30T10:19:53.502595Z"
    }
   },
   "outputs": [
    {
     "data": {
      "text/plain": [
       "[2969,\n",
       " 1178,\n",
       " 1574,\n",
       " 957,\n",
       " 2147,\n",
       " 1658,\n",
       " 3177,\n",
       " 2599,\n",
       " 1117,\n",
       " 1104,\n",
       " 689,\n",
       " 253,\n",
       " 858,\n",
       " 593,\n",
       " 2488,\n",
       " 1781,\n",
       " 1848,\n",
       " 2889,\n",
       " 877,\n",
       " 970,\n",
       " 1782,\n",
       " 1838,\n",
       " 144,\n",
       " 963,\n",
       " 1025,\n",
       " 853,\n",
       " 1195,\n",
       " 2592,\n",
       " 2557,\n",
       " 1154,\n",
       " 639,\n",
       " 2710,\n",
       " 517,\n",
       " 2898,\n",
       " 2586,\n",
       " 2128,\n",
       " 964,\n",
       " 1107,\n",
       " 580,\n",
       " 2205,\n",
       " 1421,\n",
       " 513,\n",
       " 581,\n",
       " 2483,\n",
       " 708,\n",
       " 574,\n",
       " 0,\n",
       " 2162,\n",
       " 2102,\n",
       " 740,\n",
       " 1439,\n",
       " 1727]"
      ]
     },
     "execution_count": 87,
     "metadata": {},
     "output_type": "execute_result"
    }
   ],
   "source": [
    "u0_items"
   ]
  },
  {
   "cell_type": "code",
   "execution_count": 88,
   "metadata": {
    "ExecuteTime": {
     "end_time": "2020-08-30T10:20:13.917407Z",
     "start_time": "2020-08-30T10:20:13.913101Z"
    }
   },
   "outputs": [
    {
     "data": {
      "text/plain": [
       "52"
      ]
     },
     "execution_count": 88,
     "metadata": {},
     "output_type": "execute_result"
    }
   ],
   "source": [
    "len(u0_items)"
   ]
  },
  {
   "cell_type": "code",
   "execution_count": 83,
   "metadata": {
    "ExecuteTime": {
     "end_time": "2020-08-30T10:19:10.074813Z",
     "start_time": "2020-08-30T10:19:10.071328Z"
    }
   },
   "outputs": [
    {
     "data": {
      "text/plain": [
       "[2969, 1178, 1574, 957, 2147, 1658, 3177, 2599, 1117, 1104]"
      ]
     },
     "execution_count": 83,
     "metadata": {},
     "output_type": "execute_result"
    }
   ],
   "source": [
    "u0_items[:10]"
   ]
  },
  {
   "cell_type": "code",
   "execution_count": 85,
   "metadata": {
    "ExecuteTime": {
     "end_time": "2020-08-30T10:19:38.228493Z",
     "start_time": "2020-08-30T10:19:38.224957Z"
    }
   },
   "outputs": [
    {
     "data": {
      "text/plain": [
       "False"
      ]
     },
     "execution_count": 85,
     "metadata": {},
     "output_type": "execute_result"
    }
   ],
   "source": [
    "3184 in u0_items"
   ]
  },
  {
   "cell_type": "code",
   "execution_count": 86,
   "metadata": {
    "ExecuteTime": {
     "end_time": "2020-08-30T10:19:47.686586Z",
     "start_time": "2020-08-30T10:19:47.683257Z"
    }
   },
   "outputs": [
    {
     "data": {
      "text/plain": [
       "False"
      ]
     },
     "execution_count": 86,
     "metadata": {},
     "output_type": "execute_result"
    }
   ],
   "source": [
    "3478 in u0_items"
   ]
  },
  {
   "cell_type": "code",
   "execution_count": 69,
   "metadata": {
    "ExecuteTime": {
     "end_time": "2020-08-30T10:15:33.445682Z",
     "start_time": "2020-08-30T10:15:33.332736Z"
    }
   },
   "outputs": [
    {
     "data": {
      "text/html": [
       "<div>\n",
       "<style scoped>\n",
       "    .dataframe tbody tr th:only-of-type {\n",
       "        vertical-align: middle;\n",
       "    }\n",
       "\n",
       "    .dataframe tbody tr th {\n",
       "        vertical-align: top;\n",
       "    }\n",
       "\n",
       "    .dataframe thead th {\n",
       "        text-align: right;\n",
       "    }\n",
       "</style>\n",
       "<table border=\"1\" class=\"dataframe\">\n",
       "  <thead>\n",
       "    <tr style=\"text-align: right;\">\n",
       "      <th></th>\n",
       "      <th>positive</th>\n",
       "      <th>item_n0</th>\n",
       "      <th>item_n1</th>\n",
       "      <th>item_n2</th>\n",
       "      <th>item_n3</th>\n",
       "      <th>item_n4</th>\n",
       "      <th>item_n5</th>\n",
       "      <th>item_n6</th>\n",
       "      <th>item_n7</th>\n",
       "      <th>item_n8</th>\n",
       "      <th>...</th>\n",
       "      <th>item_n89</th>\n",
       "      <th>item_n90</th>\n",
       "      <th>item_n91</th>\n",
       "      <th>item_n92</th>\n",
       "      <th>item_n93</th>\n",
       "      <th>item_n94</th>\n",
       "      <th>item_n95</th>\n",
       "      <th>item_n96</th>\n",
       "      <th>item_n97</th>\n",
       "      <th>item_n98</th>\n",
       "    </tr>\n",
       "  </thead>\n",
       "  <tbody>\n",
       "    <tr>\n",
       "      <th>0</th>\n",
       "      <td>(0, 47)</td>\n",
       "      <td>3184</td>\n",
       "      <td>3478</td>\n",
       "      <td>1694</td>\n",
       "      <td>3377</td>\n",
       "      <td>340</td>\n",
       "      <td>2111</td>\n",
       "      <td>2833</td>\n",
       "      <td>382</td>\n",
       "      <td>2152</td>\n",
       "      <td>...</td>\n",
       "      <td>2486</td>\n",
       "      <td>428</td>\n",
       "      <td>416</td>\n",
       "      <td>799</td>\n",
       "      <td>2623</td>\n",
       "      <td>3346</td>\n",
       "      <td>956</td>\n",
       "      <td>294</td>\n",
       "      <td>2309</td>\n",
       "      <td>1867</td>\n",
       "    </tr>\n",
       "    <tr>\n",
       "      <th>1</th>\n",
       "      <td>(1, 1737)</td>\n",
       "      <td>683</td>\n",
       "      <td>15</td>\n",
       "      <td>369</td>\n",
       "      <td>1630</td>\n",
       "      <td>777</td>\n",
       "      <td>899</td>\n",
       "      <td>2465</td>\n",
       "      <td>2906</td>\n",
       "      <td>2175</td>\n",
       "      <td>...</td>\n",
       "      <td>235</td>\n",
       "      <td>3515</td>\n",
       "      <td>3255</td>\n",
       "      <td>1878</td>\n",
       "      <td>2017</td>\n",
       "      <td>144</td>\n",
       "      <td>2000</td>\n",
       "      <td>2894</td>\n",
       "      <td>27</td>\n",
       "      <td>1146</td>\n",
       "    </tr>\n",
       "    <tr>\n",
       "      <th>2</th>\n",
       "      <td>(2, 1900)</td>\n",
       "      <td>478</td>\n",
       "      <td>3184</td>\n",
       "      <td>2477</td>\n",
       "      <td>1061</td>\n",
       "      <td>2196</td>\n",
       "      <td>416</td>\n",
       "      <td>976</td>\n",
       "      <td>1623</td>\n",
       "      <td>3263</td>\n",
       "      <td>...</td>\n",
       "      <td>1492</td>\n",
       "      <td>1994</td>\n",
       "      <td>2294</td>\n",
       "      <td>3431</td>\n",
       "      <td>2735</td>\n",
       "      <td>2996</td>\n",
       "      <td>3442</td>\n",
       "      <td>1587</td>\n",
       "      <td>277</td>\n",
       "      <td>2588</td>\n",
       "    </tr>\n",
       "    <tr>\n",
       "      <th>3</th>\n",
       "      <td>(3, 1774)</td>\n",
       "      <td>1085</td>\n",
       "      <td>2309</td>\n",
       "      <td>1203</td>\n",
       "      <td>3366</td>\n",
       "      <td>3661</td>\n",
       "      <td>3241</td>\n",
       "      <td>2349</td>\n",
       "      <td>2363</td>\n",
       "      <td>2903</td>\n",
       "      <td>...</td>\n",
       "      <td>1768</td>\n",
       "      <td>752</td>\n",
       "      <td>2217</td>\n",
       "      <td>1222</td>\n",
       "      <td>86</td>\n",
       "      <td>1469</td>\n",
       "      <td>3074</td>\n",
       "      <td>479</td>\n",
       "      <td>838</td>\n",
       "      <td>1824</td>\n",
       "    </tr>\n",
       "    <tr>\n",
       "      <th>4</th>\n",
       "      <td>(4, 279)</td>\n",
       "      <td>476</td>\n",
       "      <td>1002</td>\n",
       "      <td>596</td>\n",
       "      <td>2478</td>\n",
       "      <td>2382</td>\n",
       "      <td>2791</td>\n",
       "      <td>704</td>\n",
       "      <td>1097</td>\n",
       "      <td>624</td>\n",
       "      <td>...</td>\n",
       "      <td>1527</td>\n",
       "      <td>78</td>\n",
       "      <td>958</td>\n",
       "      <td>2780</td>\n",
       "      <td>3703</td>\n",
       "      <td>3261</td>\n",
       "      <td>3343</td>\n",
       "      <td>1358</td>\n",
       "      <td>3610</td>\n",
       "      <td>2382</td>\n",
       "    </tr>\n",
       "  </tbody>\n",
       "</table>\n",
       "<p>5 rows × 100 columns</p>\n",
       "</div>"
      ],
      "text/plain": [
       "    positive  item_n0  item_n1  item_n2  item_n3  item_n4  item_n5  item_n6  \\\n",
       "0    (0, 47)     3184     3478     1694     3377      340     2111     2833   \n",
       "1  (1, 1737)      683       15      369     1630      777      899     2465   \n",
       "2  (2, 1900)      478     3184     2477     1061     2196      416      976   \n",
       "3  (3, 1774)     1085     2309     1203     3366     3661     3241     2349   \n",
       "4   (4, 279)      476     1002      596     2478     2382     2791      704   \n",
       "\n",
       "   item_n7  item_n8  ...  item_n89  item_n90  item_n91  item_n92  item_n93  \\\n",
       "0      382     2152  ...      2486       428       416       799      2623   \n",
       "1     2906     2175  ...       235      3515      3255      1878      2017   \n",
       "2     1623     3263  ...      1492      1994      2294      3431      2735   \n",
       "3     2363     2903  ...      1768       752      2217      1222        86   \n",
       "4     1097      624  ...      1527        78       958      2780      3703   \n",
       "\n",
       "   item_n94  item_n95  item_n96  item_n97  item_n98  \n",
       "0      3346       956       294      2309      1867  \n",
       "1       144      2000      2894        27      1146  \n",
       "2      2996      3442      1587       277      2588  \n",
       "3      1469      3074       479       838      1824  \n",
       "4      3261      3343      1358      3610      2382  \n",
       "\n",
       "[5 rows x 100 columns]"
      ]
     },
     "execution_count": 69,
     "metadata": {},
     "output_type": "execute_result"
    }
   ],
   "source": [
    "filename = \"Data_Javier/ml-1m.test.negative\"\n",
    "df = pd.read_csv(filename, sep=\"\\t\")\n",
    "df.head()"
   ]
  },
  {
   "cell_type": "code",
   "execution_count": 71,
   "metadata": {
    "ExecuteTime": {
     "end_time": "2020-08-30T10:15:42.703208Z",
     "start_time": "2020-08-30T10:15:42.648813Z"
    }
   },
   "outputs": [
    {
     "data": {
      "text/plain": [
       "[[3184,\n",
       "  3478,\n",
       "  1694,\n",
       "  3377,\n",
       "  340,\n",
       "  2111,\n",
       "  2833,\n",
       "  382,\n",
       "  2152,\n",
       "  597,\n",
       "  1653,\n",
       "  715,\n",
       "  888,\n",
       "  1662,\n",
       "  141,\n",
       "  1815,\n",
       "  1018,\n",
       "  3613,\n",
       "  3563,\n",
       "  2959,\n",
       "  1580,\n",
       "  3245,\n",
       "  1164,\n",
       "  3604,\n",
       "  1309,\n",
       "  83,\n",
       "  3536,\n",
       "  1234,\n",
       "  1961,\n",
       "  2337,\n",
       "  903,\n",
       "  1880,\n",
       "  2730,\n",
       "  1364,\n",
       "  3474,\n",
       "  386,\n",
       "  1835,\n",
       "  297,\n",
       "  3239,\n",
       "  3466,\n",
       "  1796,\n",
       "  660,\n",
       "  1537,\n",
       "  1337,\n",
       "  3695,\n",
       "  2073,\n",
       "  3257,\n",
       "  857,\n",
       "  1351,\n",
       "  2901,\n",
       "  3252,\n",
       "  218,\n",
       "  1460,\n",
       "  3394,\n",
       "  627,\n",
       "  3107,\n",
       "  1926,\n",
       "  270,\n",
       "  551,\n",
       "  1468,\n",
       "  884,\n",
       "  2314,\n",
       "  2684,\n",
       "  3009,\n",
       "  3063,\n",
       "  1909,\n",
       "  3046,\n",
       "  2414,\n",
       "  3488,\n",
       "  713,\n",
       "  2423,\n",
       "  2367,\n",
       "  370,\n",
       "  3649,\n",
       "  2143,\n",
       "  3301,\n",
       "  826,\n",
       "  3199,\n",
       "  624,\n",
       "  2184,\n",
       "  223,\n",
       "  1674,\n",
       "  2463,\n",
       "  419,\n",
       "  2801,\n",
       "  3031,\n",
       "  656,\n",
       "  2141,\n",
       "  1258,\n",
       "  2486,\n",
       "  428,\n",
       "  416,\n",
       "  799,\n",
       "  2623,\n",
       "  3346,\n",
       "  956,\n",
       "  294,\n",
       "  2309,\n",
       "  1867],\n",
       " [683,\n",
       "  15,\n",
       "  369,\n",
       "  1630,\n",
       "  777,\n",
       "  899,\n",
       "  2465,\n",
       "  2906,\n",
       "  2175,\n",
       "  3348,\n",
       "  3106,\n",
       "  601,\n",
       "  403,\n",
       "  3113,\n",
       "  3604,\n",
       "  406,\n",
       "  3667,\n",
       "  1676,\n",
       "  1486,\n",
       "  255,\n",
       "  1622,\n",
       "  3678,\n",
       "  951,\n",
       "  3452,\n",
       "  281,\n",
       "  547,\n",
       "  2600,\n",
       "  2138,\n",
       "  1210,\n",
       "  2227,\n",
       "  1415,\n",
       "  1525,\n",
       "  1490,\n",
       "  2461,\n",
       "  3200,\n",
       "  2299,\n",
       "  556,\n",
       "  1093,\n",
       "  149,\n",
       "  957,\n",
       "  2746,\n",
       "  995,\n",
       "  1711,\n",
       "  2239,\n",
       "  2771,\n",
       "  3240,\n",
       "  556,\n",
       "  2391,\n",
       "  510,\n",
       "  477,\n",
       "  2983,\n",
       "  2867,\n",
       "  111,\n",
       "  3083,\n",
       "  2401,\n",
       "  3132,\n",
       "  2621,\n",
       "  3163,\n",
       "  3696,\n",
       "  3067,\n",
       "  1875,\n",
       "  1671,\n",
       "  3183,\n",
       "  1248,\n",
       "  2498,\n",
       "  3597,\n",
       "  1878,\n",
       "  1769,\n",
       "  310,\n",
       "  2161,\n",
       "  660,\n",
       "  1608,\n",
       "  2442,\n",
       "  597,\n",
       "  814,\n",
       "  3212,\n",
       "  612,\n",
       "  1396,\n",
       "  2705,\n",
       "  2888,\n",
       "  1787,\n",
       "  1213,\n",
       "  3519,\n",
       "  1016,\n",
       "  1474,\n",
       "  238,\n",
       "  557,\n",
       "  330,\n",
       "  3093,\n",
       "  235,\n",
       "  3515,\n",
       "  3255,\n",
       "  1878,\n",
       "  2017,\n",
       "  144,\n",
       "  2000,\n",
       "  2894,\n",
       "  27,\n",
       "  1146]]"
      ]
     },
     "execution_count": 71,
     "metadata": {},
     "output_type": "execute_result"
    }
   ],
   "source": [
    "negativeList = df.iloc[:, 1:].values.tolist()\n",
    "negativeList[:2]"
   ]
  },
  {
   "cell_type": "code",
   "execution_count": 64,
   "metadata": {
    "ExecuteTime": {
     "end_time": "2020-08-30T09:52:24.103230Z",
     "start_time": "2020-08-30T09:52:24.101159Z"
    }
   },
   "outputs": [],
   "source": [
    "n_neg = 4"
   ]
  },
  {
   "cell_type": "code",
   "execution_count": 65,
   "metadata": {
    "ExecuteTime": {
     "end_time": "2020-08-30T09:52:26.019884Z",
     "start_time": "2020-08-30T09:52:26.015870Z"
    }
   },
   "outputs": [],
   "source": [
    "def get_train_instances(train, n_items, n_neg, testNegatives):\n",
    "    user, item, labels = [],[],[]\n",
    "    n_users = train.shape[0]\n",
    "    for (u, i) in train.keys():\n",
    "        # 有过交互的，label 是 1\n",
    "        user.append(u)\n",
    "        item.append(i)\n",
    "        labels.append(1)\n",
    "        # 随机选择一个 item，如果这个 item 用户没有交互过，则 label 为 0\n",
    "        # 在测试集的负采样的样本中，用户u和item也没有过交互\n",
    "        for t in range(n_neg):\n",
    "            j = np.random.randint(n_items)\n",
    "            while ((u, j) in train.keys()) or (j in testNegatives[u]):\n",
    "                j = np.random.randint(n_items)\n",
    "            user.append(u)\n",
    "            item.append(j)\n",
    "            labels.append(0)\n",
    "    return np.array(user), np.array(item), np.array(labels)"
   ]
  },
  {
   "cell_type": "code",
   "execution_count": 66,
   "metadata": {
    "ExecuteTime": {
     "end_time": "2020-08-30T09:52:44.507928Z",
     "start_time": "2020-08-30T09:52:26.878884Z"
    }
   },
   "outputs": [],
   "source": [
    "user, item, labels = get_train_instances(train, n_items, n_neg)"
   ]
  },
  {
   "cell_type": "code",
   "execution_count": 67,
   "metadata": {
    "ExecuteTime": {
     "end_time": "2020-08-30T09:52:56.921960Z",
     "start_time": "2020-08-30T09:52:56.917316Z"
    }
   },
   "outputs": [
    {
     "data": {
      "text/plain": [
       "array([1, 0, 0, 0, 0, 1, 0, 0, 0, 0, 1, 0, 0, 0, 0, 1, 0, 0, 0, 0, 1, 0,\n",
       "       0, 0, 0, 1, 0, 0, 0, 0, 1, 0, 0, 0, 0, 1, 0, 0, 0, 0, 1, 0, 0, 0,\n",
       "       0, 1, 0, 0, 0, 0, 1, 0, 0, 0, 0, 1, 0, 0, 0, 0, 1, 0, 0, 0, 0, 1,\n",
       "       0, 0, 0, 0, 1, 0, 0, 0, 0, 1, 0, 0, 0, 0, 1, 0, 0, 0, 0, 1, 0, 0,\n",
       "       0, 0, 1, 0, 0, 0, 0, 1, 0, 0, 0, 0])"
      ]
     },
     "execution_count": 67,
     "metadata": {},
     "output_type": "execute_result"
    }
   ],
   "source": [
    "labels[:100]"
   ]
  }
 ],
 "metadata": {
  "kernelspec": {
   "display_name": "Python 3",
   "language": "python",
   "name": "python3"
  },
  "language_info": {
   "codemirror_mode": {
    "name": "ipython",
    "version": 3
   },
   "file_extension": ".py",
   "mimetype": "text/x-python",
   "name": "python",
   "nbconvert_exporter": "python",
   "pygments_lexer": "ipython3",
   "version": "3.7.3"
  },
  "toc": {
   "base_numbering": 1,
   "nav_menu": {},
   "number_sections": true,
   "sideBar": true,
   "skip_h1_title": false,
   "title_cell": "Table of Contents",
   "title_sidebar": "Contents",
   "toc_cell": false,
   "toc_position": {},
   "toc_section_display": true,
   "toc_window_display": false
  }
 },
 "nbformat": 4,
 "nbformat_minor": 2
}
