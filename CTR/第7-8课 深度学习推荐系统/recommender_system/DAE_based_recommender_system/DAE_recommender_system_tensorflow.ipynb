{
 "cells": [
  {
   "cell_type": "markdown",
   "metadata": {
    "deletable": true,
    "editable": true
   },
   "source": [
    "### 用tensorflow构建DAE推荐系统"
   ]
  },
  {
   "cell_type": "code",
   "execution_count": 1,
   "metadata": {
    "collapsed": true,
    "deletable": true,
    "editable": true
   },
   "outputs": [],
   "source": [
    "import numpy as np\n",
    "import pandas as pd\n",
    "import tensorflow as tf"
   ]
  },
  {
   "cell_type": "code",
   "execution_count": 2,
   "metadata": {
    "collapsed": true,
    "deletable": true,
    "editable": true
   },
   "outputs": [],
   "source": [
    "# UserID::MovieID::Rating::Timestamp\n",
    "!perl -pi.bak -e 's/::/\\t/g' ratings.dat"
   ]
  },
  {
   "cell_type": "code",
   "execution_count": 3,
   "metadata": {
    "collapsed": false,
    "deletable": true,
    "editable": true
   },
   "outputs": [
    {
     "name": "stdout",
     "output_type": "stream",
     "text": [
      "USERS: 6040 ITEMS: 3706\n"
     ]
    }
   ],
   "source": [
    "# 加载数据\n",
    "df = pd.read_csv('ratings.dat', sep='\\t', names=['user', 'item', 'rating', 'timestamp'], header=None)\n",
    "df = df.drop('timestamp', axis=1)\n",
    "\n",
    "num_items = df.item.nunique()\n",
    "num_users = df.user.nunique()\n",
    "\n",
    "print(\"USERS: {} ITEMS: {}\".format(num_users, num_items))"
   ]
  },
  {
   "cell_type": "code",
   "execution_count": 5,
   "metadata": {
    "collapsed": false,
    "deletable": true,
    "editable": true
   },
   "outputs": [],
   "source": [
    "# 对输入做Normalization\n",
    "from sklearn import preprocessing\n",
    "r = df['rating'].values.astype(float)\n",
    "min_max_scaler = preprocessing.MinMaxScaler()\n",
    "x_scaled = min_max_scaler.fit_transform(r.reshape(-1,1))\n",
    "df_normalized = pd.DataFrame(x_scaled)\n",
    "df['rating'] = df_normalized"
   ]
  },
  {
   "cell_type": "code",
   "execution_count": 6,
   "metadata": {
    "collapsed": true,
    "deletable": true,
    "editable": true
   },
   "outputs": [],
   "source": [
    "# 把DataFrame转成user-item矩阵\n",
    "matrix = df.pivot(index='user', columns='item', values='rating')\n",
    "matrix.fillna(0, inplace=True)"
   ]
  },
  {
   "cell_type": "code",
   "execution_count": 7,
   "metadata": {
    "collapsed": true,
    "deletable": true,
    "editable": true
   },
   "outputs": [],
   "source": [
    "users = matrix.index.tolist()\n",
    "items = matrix.columns.tolist()\n",
    "matrix = matrix.as_matrix()"
   ]
  },
  {
   "cell_type": "code",
   "execution_count": 8,
   "metadata": {
    "collapsed": true,
    "deletable": true,
    "editable": true
   },
   "outputs": [],
   "source": [
    "# 网络超参数\n",
    "num_input = num_items\n",
    "num_hidden_1 = 10\n",
    "num_hidden_2 = 5\n",
    "\n",
    "X = tf.placeholder(tf.float64, [None, num_input])\n",
    "\n",
    "# 隐层的变量初始化\n",
    "weights = {\n",
    "    'encoder_h1': tf.Variable(tf.random_normal([num_input, num_hidden_1], dtype=tf.float64)),\n",
    "    'encoder_h2': tf.Variable(tf.random_normal([num_hidden_1, num_hidden_2], dtype=tf.float64)),\n",
    "    'decoder_h1': tf.Variable(tf.random_normal([num_hidden_2, num_hidden_1], dtype=tf.float64)),\n",
    "    'decoder_h2': tf.Variable(tf.random_normal([num_hidden_1, num_input], dtype=tf.float64)),\n",
    "}\n",
    "\n",
    "biases = {\n",
    "    'encoder_b1': tf.Variable(tf.random_normal([num_hidden_1], dtype=tf.float64)),\n",
    "    'encoder_b2': tf.Variable(tf.random_normal([num_hidden_2], dtype=tf.float64)),\n",
    "    'decoder_b1': tf.Variable(tf.random_normal([num_hidden_1], dtype=tf.float64)),\n",
    "    'decoder_b2': tf.Variable(tf.random_normal([num_input], dtype=tf.float64)),\n",
    "}"
   ]
  },
  {
   "cell_type": "code",
   "execution_count": 9,
   "metadata": {
    "collapsed": true,
    "deletable": true,
    "editable": true
   },
   "outputs": [],
   "source": [
    "# 构建encoder\n",
    "def encoder(x):\n",
    "    layer_1 = tf.nn.relu(tf.add(tf.matmul(x, weights['encoder_h1']), biases['encoder_b1']))\n",
    "    layer_2 = tf.nn.relu(tf.add(tf.matmul(layer_1, weights['encoder_h2']), biases['encoder_b2']))\n",
    "    return layer_2\n",
    "\n",
    "\n",
    "# 构建decoder\n",
    "def decoder(x):\n",
    "    layer_1 = tf.nn.relu(tf.add(tf.matmul(x, weights['decoder_h1']), biases['decoder_b1']))\n",
    "    layer_2 = tf.nn.relu(tf.add(tf.matmul(layer_1, weights['decoder_h2']), biases['decoder_b2']))\n",
    "    return layer_2\n",
    "\n",
    "\n",
    "# 构建整个模型\n",
    "encoder_op = encoder(X)\n",
    "decoder_op = decoder(encoder_op)\n",
    "\n",
    "\n",
    "# 预测\n",
    "y_pred = decoder_op\n",
    "\n",
    "\n",
    "# 标准答案就是输入\n",
    "y_true = X"
   ]
  },
  {
   "cell_type": "code",
   "execution_count": 10,
   "metadata": {
    "collapsed": true,
    "deletable": true,
    "editable": true
   },
   "outputs": [],
   "source": [
    "# 定义损失函数和优化器，最小化square error\n",
    "loss = tf.losses.mean_squared_error(y_true, y_pred)\n",
    "optimizer = tf.train.RMSPropOptimizer(0.03).minimize(loss)\n",
    "\n",
    "predictions = pd.DataFrame()\n",
    "\n",
    "# 定义评估准则\n",
    "eval_x = tf.placeholder(tf.int32, )\n",
    "eval_y = tf.placeholder(tf.int32, )\n",
    "pre, pre_op = tf.metrics.precision(labels=eval_x, predictions=eval_y)"
   ]
  },
  {
   "cell_type": "code",
   "execution_count": 11,
   "metadata": {
    "collapsed": true,
    "deletable": true,
    "editable": true
   },
   "outputs": [],
   "source": [
    "# 变量初始化\n",
    "init = tf.global_variables_initializer()\n",
    "local_init = tf.local_variables_initializer()"
   ]
  },
  {
   "cell_type": "code",
   "execution_count": 12,
   "metadata": {
    "collapsed": false,
    "deletable": true,
    "editable": true
   },
   "outputs": [
    {
     "name": "stdout",
     "output_type": "stream",
     "text": [
      "Epoch: 1 Loss: 59.0580499371\n",
      "Epoch: 2 Loss: 3.0786729902\n",
      "Epoch: 3 Loss: 0.97855501622\n",
      "Epoch: 4 Loss: 0.513937832167\n",
      "Epoch: 5 Loss: 0.402825277299\n",
      "Epoch: 6 Loss: 0.268313886598\n",
      "Epoch: 7 Loss: 0.112210400092\n",
      "Epoch: 8 Loss: 0.035147917845\n",
      "Epoch: 9 Loss: 0.0213621712755\n",
      "Epoch: 10 Loss: 0.0205971047981\n",
      "Epoch: 11 Loss: 0.0206085862204\n",
      "Epoch: 12 Loss: 0.0206078271537\n",
      "Epoch: 13 Loss: 0.0206037946822\n",
      "Epoch: 14 Loss: 0.0205983311947\n",
      "Epoch: 15 Loss: 0.0205973804307\n",
      "Epoch: 16 Loss: 0.0205953549206\n",
      "Epoch: 17 Loss: 0.0205961550819\n",
      "Epoch: 18 Loss: 0.0205949976031\n",
      "Epoch: 19 Loss: 0.0205929138853\n",
      "Epoch: 20 Loss: 0.0205930756638\n",
      "Epoch: 21 Loss: 0.02059213821\n",
      "Epoch: 22 Loss: 0.0205901029985\n",
      "Epoch: 23 Loss: 0.0205905007509\n",
      "Epoch: 24 Loss: 0.0205895710193\n",
      "Epoch: 25 Loss: 0.0205876573455\n",
      "Epoch: 26 Loss: 0.0205875455479\n",
      "Epoch: 27 Loss: 0.0205855603563\n",
      "Epoch: 28 Loss: 0.0205855794096\n",
      "Epoch: 29 Loss: 0.0205850776595\n",
      "Epoch: 30 Loss: 0.0205833382206\n",
      "Epoch: 31 Loss: 0.020582481171\n",
      "Epoch: 32 Loss: 0.0205818848141\n",
      "Epoch: 33 Loss: 0.0205809414232\n",
      "Epoch: 34 Loss: 0.0205800812691\n",
      "Epoch: 35 Loss: 0.0205788608485\n",
      "Epoch: 36 Loss: 0.0205786536292\n",
      "Epoch: 37 Loss: 0.0205779220754\n",
      "Epoch: 38 Loss: 0.0205770462441\n",
      "Epoch: 39 Loss: 0.0205752383918\n",
      "Epoch: 40 Loss: 0.020575442623\n",
      "Epoch: 41 Loss: 0.0205747316359\n",
      "Epoch: 42 Loss: 0.0205748260875\n",
      "Epoch: 43 Loss: 0.0205724814441\n",
      "Epoch: 44 Loss: 0.0205733484278\n",
      "Epoch: 45 Loss: 0.0205723097315\n",
      "Epoch: 46 Loss: 0.0205710183363\n",
      "Epoch: 47 Loss: 0.0205709472842\n",
      "Epoch: 48 Loss: 0.0205697636508\n",
      "Epoch: 49 Loss: 0.0205687591806\n",
      "Epoch: 50 Loss: 0.0205686698512\n",
      "Epoch: 51 Loss: 0.0205682068675\n",
      "Epoch: 52 Loss: 0.0205666654898\n",
      "Epoch: 53 Loss: 0.0205665186513\n",
      "Epoch: 54 Loss: 0.0205662659913\n",
      "Epoch: 55 Loss: 0.0205659467417\n",
      "Epoch: 56 Loss: 0.0205654287711\n",
      "Epoch: 57 Loss: 0.0205657468565\n",
      "Epoch: 58 Loss: 0.0205635242164\n",
      "Epoch: 59 Loss: 0.0205632167635\n",
      "Epoch: 60 Loss: 0.0205626013922\n",
      "Epoch: 61 Loss: 0.0205631131151\n",
      "Epoch: 62 Loss: 0.0205620705771\n",
      "Epoch: 63 Loss: 0.0205613530319\n",
      "Epoch: 64 Loss: 0.020561179185\n",
      "Epoch: 65 Loss: 0.0205609460827\n",
      "Epoch: 66 Loss: 0.020560302306\n",
      "Epoch: 67 Loss: 0.0205600877137\n",
      "Epoch: 68 Loss: 0.0205597175906\n",
      "Epoch: 69 Loss: 0.0205584748959\n",
      "Epoch: 70 Loss: 0.0205578692257\n",
      "Epoch: 71 Loss: 0.0205580011243\n",
      "Epoch: 72 Loss: 0.020557249935\n",
      "Epoch: 73 Loss: 0.0205563924586\n",
      "Epoch: 74 Loss: 0.0205565702248\n",
      "Epoch: 75 Loss: 0.0205560943189\n",
      "Epoch: 76 Loss: 0.0205564597854\n",
      "Epoch: 77 Loss: 0.020557180047\n",
      "Epoch: 78 Loss: 0.020556371271\n",
      "Epoch: 79 Loss: 0.0205545626037\n",
      "Epoch: 80 Loss: 0.0205560411947\n",
      "Epoch: 81 Loss: 0.0205542644641\n",
      "Epoch: 82 Loss: 0.0205525313892\n",
      "Epoch: 83 Loss: 0.0205532852948\n",
      "Epoch: 84 Loss: 0.0205528023653\n",
      "Epoch: 85 Loss: 0.0205538132383\n",
      "Epoch: 86 Loss: 0.02055321855\n",
      "Epoch: 87 Loss: 0.0205636948813\n",
      "Epoch: 88 Loss: 0.0205626440002\n",
      "Epoch: 89 Loss: 0.0205618942855\n",
      "Epoch: 90 Loss: 0.0205629732615\n",
      "Epoch: 91 Loss: 0.0205600998985\n",
      "Epoch: 92 Loss: 0.0205587764115\n",
      "Epoch: 93 Loss: 0.0205557937734\n",
      "Epoch: 94 Loss: 0.0205576448158\n",
      "Epoch: 95 Loss: 0.0205598927569\n",
      "Epoch: 96 Loss: 0.020556332039\n",
      "Epoch: 97 Loss: 0.0205519249818\n",
      "Epoch: 98 Loss: 0.0205567698382\n",
      "Epoch: 99 Loss: 0.0205547066095\n",
      "Epoch: 100 Loss: 0.0205539627156\n",
      "Predictions...\n"
     ]
    }
   ],
   "source": [
    "# 在session中run\n",
    "with tf.Session() as session:\n",
    "    epochs = 100\n",
    "    batch_size = 250\n",
    "\n",
    "    session.run(init)\n",
    "    session.run(local_init)\n",
    "\n",
    "    num_batches = int(matrix.shape[0] / batch_size)\n",
    "    matrix = np.array_split(matrix, num_batches)\n",
    "\n",
    "    for i in range(epochs):\n",
    "\n",
    "        avg_cost = 0\n",
    "\n",
    "        for batch in matrix:\n",
    "            _, l = session.run([optimizer, loss], feed_dict={X: batch})\n",
    "            avg_cost += l\n",
    "\n",
    "        avg_cost /= num_batches\n",
    "\n",
    "        print(\"Epoch: {} Loss: {}\".format(i + 1, avg_cost))\n",
    "\n",
    "    print(\"Predictions...\")\n",
    "\n",
    "    matrix = np.concatenate(matrix, axis=0)\n",
    "\n",
    "    preds = session.run(decoder_op, feed_dict={X: matrix})\n",
    "\n",
    "    predictions = predictions.append(pd.DataFrame(preds))\n",
    "\n",
    "    predictions = predictions.stack().reset_index(name='rating')\n",
    "    predictions.columns = ['user', 'item', 'rating']\n",
    "    predictions['user'] = predictions['user'].map(lambda value: users[value])\n",
    "    predictions['item'] = predictions['item'].map(lambda value: items[value])"
   ]
  },
  {
   "cell_type": "code",
   "execution_count": 13,
   "metadata": {
    "collapsed": false,
    "deletable": true,
    "editable": true
   },
   "outputs": [
    {
     "name": "stdout",
     "output_type": "stream",
     "text": [
      "Filtering out items in training set\n"
     ]
    }
   ],
   "source": [
    "# 为每个用户计算top10的推荐\n",
    "print(\"Filtering out items in training set\")\n",
    "keys = ['user', 'item']\n",
    "i1 = predictions.set_index(keys).index\n",
    "i2 = df.set_index(keys).index\n",
    "\n",
    "recs = predictions[~i1.isin(i2)]\n",
    "recs = recs.sort_values(['user', 'rating'], ascending=[True, False])\n",
    "recs = recs.groupby('user').head(10)\n",
    "recs.to_csv('recs.tsv', sep='\\t', index=False, header=False)"
   ]
  },
  {
   "cell_type": "code",
   "execution_count": null,
   "metadata": {
    "collapsed": true
   },
   "outputs": [],
   "source": []
  }
 ],
 "metadata": {
  "kernelspec": {
   "display_name": "Python 2",
   "language": "python",
   "name": "python2"
  },
  "language_info": {
   "codemirror_mode": {
    "name": "ipython",
    "version": 2
   },
   "file_extension": ".py",
   "mimetype": "text/x-python",
   "name": "python",
   "nbconvert_exporter": "python",
   "pygments_lexer": "ipython2",
   "version": "2.7.5"
  }
 },
 "nbformat": 4,
 "nbformat_minor": 2
}
