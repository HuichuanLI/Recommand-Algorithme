{
 "cells": [
  {
   "cell_type": "markdown",
   "metadata": {},
   "source": [
    "## 训练"
   ]
  },
  {
   "cell_type": "code",
   "execution_count": null,
   "metadata": {
    "ExecuteTime": {
     "end_time": "2020-08-23T11:16:41.915123Z",
     "start_time": "2020-08-23T11:13:25.882168Z"
    }
   },
   "outputs": [],
   "source": [
    "import pandas as pd\n",
    "import numpy as np\n",
    "from keras import Model, regularizers\n",
    "import keras.backend as K\n",
    "from keras.layers import Embedding, Reshape, Input, Dense, Dot\n",
    "from keras.models import load_model\n",
    "from keras import initializers\n",
    "from sklearn.utils import shuffle\n",
    "\n",
    "K.clear_session()\n",
    "\n",
    "\n",
    "def Recmand_model(num_user, num_movie, embedding_size):\n",
    "    # 输入层\n",
    "    input_uer = Input(shape=[None, ], dtype=\"int32\")\n",
    "    input_movie = Input(shape=[None, ], dtype=\"int32\")\n",
    "    \n",
    "    # 嵌入层\n",
    "    # input_dim: int > 0。词汇表大小， 即，最大整数 index + 1。\n",
    "    # 看keras常见API那个文件，里面介绍了这个Embedding这个的详细参数\n",
    "    user_embedding = Embedding(num_user + 1, embedding_size, input_length=1)(input_uer)\n",
    "    # 加正则\n",
    "    # user_embedding = Embedding(num_user + 1, embedding_size, input_length=1, embeddings_initializer=initializers.random_normal(stddev=0.01), embeddings_regularizer=regularizers.l2(0.01))(input_uer)    \n",
    "    user_embedding = Reshape((embedding_size,))(user_embedding)\n",
    "    \n",
    "    movie_embedding = Embedding(num_movie + 1, embedding_size, input_length=1)(input_movie)\n",
    "    movie_embedding = Reshape((embedding_size,))(movie_embedding)\n",
    "    \n",
    "    # 输出层\n",
    "    out = Dot(1)([user_embedding, movie_embedding])\n",
    "    \n",
    "    model = Model(inputs=[input_uer, input_movie], outputs=out)\n",
    "    model.compile(loss='mse', optimizer='Adam', metrics=['accuracy'])\n",
    "    model.summary()\n",
    "    return model\n",
    "\n",
    "\n",
    "def split_data(df):\n",
    "    df.sort_values(by=['time'], inplace=True)  # 按时间排序\n",
    "    boundary = df['time'].quantile(.9)  # 按时间划分 分界线\n",
    "    train = df[df['time'] < boundary]\n",
    "    train.sort_values(by=['user', 'time'], axis=0, inplace=True)\n",
    "    test = df[df['time'] >= boundary]\n",
    "    test.sort_values(by=['user', 'time'], axis=0, inplace=True)\n",
    "    # shuffle 数据集\n",
    "    return shuffle(train), shuffle(test)\n",
    "\n",
    "\n",
    "def load_data(path):\n",
    "    dformat = ['user', 'item', 'rating', 'time']\n",
    "    rating = pd.read_csv(path, sep=\"::\", header=None, names=dformat)\n",
    "    train_rating, test_rating = split_data(rating)\n",
    "    num_user = np.max(train_rating[\"user\"])\n",
    "    num_movie = np.max(train_rating[\"item\"])\n",
    "    print(\"num_user: {} num_movie: {}\".format(num_user, num_movie))\n",
    "    print(\"train: {} test: {}\".format(len(train_rating), len(test_rating)))\n",
    "\n",
    "    train_user, train_movie = train_rating['user'].values, train_rating['item'].values\n",
    "    test_user, test_movie = test_rating['user'].values, test_rating['item'].values\n",
    "\n",
    "    train_x = [train_user, train_movie]\n",
    "    train_y = train_rating['rating'].values\n",
    "    test_x = [test_user, test_movie]\n",
    "    test_y = test_rating['rating'].values\n",
    "    return num_user, num_movie, train_x, train_y, test_x, test_y\n",
    "\n",
    "\n",
    "def train(num_user, num_movie, train_x, train_y, model_save_path, batch_size=128, epochs=5, embedding_size=100):\n",
    "    model = Recmand_model(num_user, num_movie, embedding_size)\n",
    "    model.fit(train_x, train_y, batch_size=batch_size, epochs=epochs)\n",
    "    model.save(model_save_path)\n",
    "    return model\n",
    "\n",
    "\n",
    "def evaluate(model, test_x, test_y):\n",
    "    model.load_model(\"./model/mf_model.h5\")\n",
    "    eval_ = model.evaluate(test_x, test_y, verbose=0)\n",
    "    print(\"Evaluation on test data: loss = %0.6f accuracy = %0.2f%%\" % (eval_[0], eval_[1] * 100))\n",
    "\n",
    "\n",
    "def predict(model, input_x):\n",
    "#     model.load_model(\"./model/mf_model.h5\")\n",
    "    pred = model.predict(input_x)\n",
    "    print(\"pred = {}\".format(pred))\n",
    "\n",
    "\n",
    "if __name__ == '__main__':\n",
    "    data_path = \"./data/ratings.dat\"\n",
    "    model_save_path = './model/mf_model.h5'\n",
    " \n",
    "    num_user, num_movie, train_x, train_y, test_x, test_y = load_data(data_path)\n",
    "#     Recmand_model(num_user,num_movie,100)\n",
    "    model = train(num_user, num_movie, train_x, train_y, model_save_path)"
   ]
  },
  {
   "cell_type": "markdown",
   "metadata": {},
   "source": [
    "## 验证"
   ]
  },
  {
   "cell_type": "code",
   "execution_count": 9,
   "metadata": {
    "ExecuteTime": {
     "end_time": "2020-08-23T11:13:06.085270Z",
     "start_time": "2020-08-23T11:13:04.509692Z"
    }
   },
   "outputs": [
    {
     "name": "stdout",
     "output_type": "stream",
     "text": [
      "__________________________________________________________________________________________________\n",
      "Layer (type)                    Output Shape         Param #     Connected to                     \n",
      "==================================================================================================\n",
      "input_3 (InputLayer)            (None, None)         0                                            \n",
      "__________________________________________________________________________________________________\n",
      "input_4 (InputLayer)            (None, None)         0                                            \n",
      "__________________________________________________________________________________________________\n",
      "embedding_3 (Embedding)         (None, 1, 100)       604100      input_3[0][0]                    \n",
      "__________________________________________________________________________________________________\n",
      "embedding_4 (Embedding)         (None, 1, 100)       395300      input_4[0][0]                    \n",
      "__________________________________________________________________________________________________\n",
      "reshape_3 (Reshape)             (None, 100)          0           embedding_3[0][0]                \n",
      "__________________________________________________________________________________________________\n",
      "reshape_4 (Reshape)             (None, 100)          0           embedding_4[0][0]                \n",
      "__________________________________________________________________________________________________\n",
      "dot_2 (Dot)                     (None, 1)            0           reshape_3[0][0]                  \n",
      "                                                                 reshape_4[0][0]                  \n",
      "==================================================================================================\n",
      "Total params: 999,400\n",
      "Trainable params: 999,400\n",
      "Non-trainable params: 0\n",
      "__________________________________________________________________________________________________\n",
      "Evaluation on test data: loss = 13.430190 accuracy = 0.00%\n"
     ]
    }
   ],
   "source": [
    "evaluate(Recmand_model(num_user,num_movie,100), test_x, test_y)"
   ]
  },
  {
   "cell_type": "markdown",
   "metadata": {},
   "source": [
    "## 加载模型"
   ]
  },
  {
   "cell_type": "code",
   "execution_count": 16,
   "metadata": {
    "ExecuteTime": {
     "end_time": "2020-08-23T10:05:38.148759Z",
     "start_time": "2020-08-23T10:05:37.641417Z"
    }
   },
   "outputs": [],
   "source": [
    "model = load_model(model_save_path)"
   ]
  },
  {
   "cell_type": "markdown",
   "metadata": {},
   "source": [
    "## 预测"
   ]
  },
  {
   "cell_type": "code",
   "execution_count": 11,
   "metadata": {
    "ExecuteTime": {
     "end_time": "2020-08-23T10:05:39.865348Z",
     "start_time": "2020-08-23T10:05:39.856793Z"
    }
   },
   "outputs": [
    {
     "data": {
      "text/plain": [
       "[array([3020,   26, 1587, ..., 3688,  752,  169]),\n",
       " array([1912, 1586, 2571, ..., 1500, 2029, 1545])]"
      ]
     },
     "execution_count": 11,
     "metadata": {},
     "output_type": "execute_result"
    }
   ],
   "source": [
    "test_x"
   ]
  },
  {
   "cell_type": "code",
   "execution_count": 12,
   "metadata": {
    "ExecuteTime": {
     "end_time": "2020-08-23T10:05:40.788430Z",
     "start_time": "2020-08-23T10:05:40.782967Z"
    }
   },
   "outputs": [
    {
     "data": {
      "text/plain": [
       "2"
      ]
     },
     "execution_count": 12,
     "metadata": {},
     "output_type": "execute_result"
    }
   ],
   "source": [
    "test_y[-1]"
   ]
  },
  {
   "cell_type": "code",
   "execution_count": 13,
   "metadata": {
    "ExecuteTime": {
     "end_time": "2020-08-23T10:05:41.880114Z",
     "start_time": "2020-08-23T10:05:41.873859Z"
    }
   },
   "outputs": [
    {
     "data": {
      "text/plain": [
       "4"
      ]
     },
     "execution_count": 13,
     "metadata": {},
     "output_type": "execute_result"
    }
   ],
   "source": [
    "test_y[-2]"
   ]
  },
  {
   "cell_type": "code",
   "execution_count": 17,
   "metadata": {
    "ExecuteTime": {
     "end_time": "2020-08-23T02:34:11.143251Z",
     "start_time": "2020-08-23T02:34:11.138074Z"
    }
   },
   "outputs": [
    {
     "ename": "AttributeError",
     "evalue": "'Model' object has no attribute 'load_model'",
     "output_type": "error",
     "traceback": [
      "\u001b[0;31m---------------------------------------------------------------------------\u001b[0m",
      "\u001b[0;31mAttributeError\u001b[0m                            Traceback (most recent call last)",
      "\u001b[0;32m<ipython-input-17-95b4da8ac077>\u001b[0m in \u001b[0;36m<module>\u001b[0;34m\u001b[0m\n\u001b[1;32m      1\u001b[0m \u001b[0minput_x\u001b[0m \u001b[0;34m=\u001b[0m \u001b[0;34m[\u001b[0m\u001b[0mnp\u001b[0m\u001b[0;34m.\u001b[0m\u001b[0marray\u001b[0m\u001b[0;34m(\u001b[0m\u001b[0;34m[\u001b[0m\u001b[0;36m6040\u001b[0m\u001b[0;34m]\u001b[0m\u001b[0;34m)\u001b[0m\u001b[0;34m,\u001b[0m \u001b[0mnp\u001b[0m\u001b[0;34m.\u001b[0m\u001b[0marray\u001b[0m\u001b[0;34m(\u001b[0m\u001b[0;34m[\u001b[0m\u001b[0;36m1221\u001b[0m\u001b[0;34m]\u001b[0m\u001b[0;34m)\u001b[0m\u001b[0;34m]\u001b[0m\u001b[0;34m\u001b[0m\u001b[0;34m\u001b[0m\u001b[0m\n\u001b[0;32m----> 2\u001b[0;31m \u001b[0mpredict\u001b[0m\u001b[0;34m(\u001b[0m\u001b[0mmodel\u001b[0m\u001b[0;34m,\u001b[0m \u001b[0minput_x\u001b[0m\u001b[0;34m)\u001b[0m\u001b[0;34m\u001b[0m\u001b[0;34m\u001b[0m\u001b[0m\n\u001b[0m",
      "\u001b[0;32m<ipython-input-7-58284e0cb489>\u001b[0m in \u001b[0;36mpredict\u001b[0;34m(model, input_x)\u001b[0m\n\u001b[1;32m     79\u001b[0m \u001b[0;34m\u001b[0m\u001b[0m\n\u001b[1;32m     80\u001b[0m \u001b[0;32mdef\u001b[0m \u001b[0mpredict\u001b[0m\u001b[0;34m(\u001b[0m\u001b[0mmodel\u001b[0m\u001b[0;34m,\u001b[0m \u001b[0minput_x\u001b[0m\u001b[0;34m)\u001b[0m\u001b[0;34m:\u001b[0m\u001b[0;34m\u001b[0m\u001b[0;34m\u001b[0m\u001b[0m\n\u001b[0;32m---> 81\u001b[0;31m     \u001b[0mmodel\u001b[0m\u001b[0;34m.\u001b[0m\u001b[0mload_model\u001b[0m\u001b[0;34m(\u001b[0m\u001b[0;34m\"./model/mf_model.h5\"\u001b[0m\u001b[0;34m)\u001b[0m\u001b[0;34m\u001b[0m\u001b[0;34m\u001b[0m\u001b[0m\n\u001b[0m\u001b[1;32m     82\u001b[0m     \u001b[0mpred\u001b[0m \u001b[0;34m=\u001b[0m \u001b[0mmodel\u001b[0m\u001b[0;34m.\u001b[0m\u001b[0mpredict\u001b[0m\u001b[0;34m(\u001b[0m\u001b[0minput_x\u001b[0m\u001b[0;34m)\u001b[0m\u001b[0;34m\u001b[0m\u001b[0;34m\u001b[0m\u001b[0m\n\u001b[1;32m     83\u001b[0m     \u001b[0mprint\u001b[0m\u001b[0;34m(\u001b[0m\u001b[0;34m\"pred = {}\"\u001b[0m\u001b[0;34m.\u001b[0m\u001b[0mformat\u001b[0m\u001b[0;34m(\u001b[0m\u001b[0mpred\u001b[0m\u001b[0;34m)\u001b[0m\u001b[0;34m)\u001b[0m\u001b[0;34m\u001b[0m\u001b[0;34m\u001b[0m\u001b[0m\n",
      "\u001b[0;31mAttributeError\u001b[0m: 'Model' object has no attribute 'load_model'"
     ]
    }
   ],
   "source": [
    "input_x = [np.array([6040]), np.array([1221])]\n",
    "predict(model, input_x)"
   ]
  },
  {
   "cell_type": "code",
   "execution_count": 22,
   "metadata": {
    "ExecuteTime": {
     "end_time": "2020-08-23T02:34:36.012906Z",
     "start_time": "2020-08-23T02:34:36.008214Z"
    }
   },
   "outputs": [
    {
     "name": "stdout",
     "output_type": "stream",
     "text": [
      "pred = [[3.1422122]]\n"
     ]
    }
   ],
   "source": [
    "input_x = [np.array([6040]), np.array([161])]\n",
    "predict(model, input_x)"
   ]
  }
 ],
 "metadata": {
  "kernelspec": {
   "display_name": "Python 3",
   "language": "python",
   "name": "python3"
  },
  "language_info": {
   "codemirror_mode": {
    "name": "ipython",
    "version": 3
   },
   "file_extension": ".py",
   "mimetype": "text/x-python",
   "name": "python",
   "nbconvert_exporter": "python",
   "pygments_lexer": "ipython3",
   "version": "3.6.10"
  },
  "toc": {
   "base_numbering": 1,
   "nav_menu": {},
   "number_sections": true,
   "sideBar": true,
   "skip_h1_title": false,
   "title_cell": "Table of Contents",
   "title_sidebar": "Contents",
   "toc_cell": false,
   "toc_position": {},
   "toc_section_display": true,
   "toc_window_display": false
  }
 },
 "nbformat": 4,
 "nbformat_minor": 2
}
