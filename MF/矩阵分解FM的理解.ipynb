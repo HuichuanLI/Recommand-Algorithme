{
 "cells": [
  {
   "cell_type": "markdown",
   "metadata": {},
   "source": [
    "每一行代表一个用户，每一列代表一个物品，表格里的每一个值代表用户对物品的操作，这个操作可以是评分，点击，点赞。\n",
    "\n",
    "其中，有些格子记录了行为，有些格子是空的。\n",
    "\n",
    "**推荐问题转化成了如何补上那些空格子**\n",
    "\n",
    "![image.png](imgs/movielens评分矩阵.png)\n",
    "\n",
    "## Funk SVD(LMF)\n",
    "直接将评分矩阵分解成两个矩阵相乘， k x n 维度的用户矩阵，每一行是用户的隐式向量表示， n x m 维的物品矩阵，每一列是物品的隐式向量表示，用户和物品向量的内积即为预估的评分。\n",
    "![image.png](imgs/MF矩阵分解.png)\n",
    "\n",
    "那如何进行分解呢？\n",
    "\n",
    "随机初始化矩阵，使用均方误差作为loss，梯度下降进行学习。这个过程中还可以加入正则项，降低泛化误差。\n",
    "\n",
    "$Loss(X, Y)=\\sum_{i,u}(r_{ui}-x_uy_i^T)^2+λ(\\sum_u||x_u||^2)+λ(\\sum_u||y_i||^2)$\n",
    "\n",
    "#### 建模伪代码\n",
    "```python\n",
    "input_user, input_movie -> user_embedding, item_embedding\n",
    "\n",
    "prediction = user_embedding * item_embedding\n",
    "\n",
    "model = Model(inputs=[input_uer, input_movie], outputs=prediction)\n",
    "```"
   ]
  },
  {
   "cell_type": "markdown",
   "metadata": {},
   "source": [
    "## 矩阵分解应用\n",
    "- 比如最近1周或2周的用户数据，item数据，用户和item都会进行过滤，如果数据比较稀疏，可以积累时间更久的数据\n",
    "    - 用户的选择：不能太活跃，要是特别活跃的用户，它对很多item都有行为，容易让模型学偏，也要过滤掉那种不活跃的用户，行为太少\n",
    "    - item的选择：过滤掉曝光少，点击少的item，主要你看想要多少item，你想要的高质量的item去传播，推荐，可以找一些点击率比较高的item，要不然协同出来的结果就两极分化了\n",
    "- 可以基于学习到的 user embedding 和 item embedding 进行协同过滤\n",
    "- 离线训练的score也可以进行召回(比如一般没有评分的情况，就是用点击数据，那目标就是预测点击，可以直接用最后训练的矩阵(每个空格里面就是预测这个用户对item是否点击，以及点击的分数情况)，可以基于这个向量进行召回)\n",
    "- 矩阵分解因为数据量较大，计算比较复杂，所以一般工业界采样spark计算"
   ]
  }
 ],
 "metadata": {
  "kernelspec": {
   "display_name": "Python 3",
   "language": "python",
   "name": "python3"
  },
  "language_info": {
   "codemirror_mode": {
    "name": "ipython",
    "version": 3
   },
   "file_extension": ".py",
   "mimetype": "text/x-python",
   "name": "python",
   "nbconvert_exporter": "python",
   "pygments_lexer": "ipython3",
   "version": "3.7.3"
  },
  "toc": {
   "base_numbering": 1,
   "nav_menu": {},
   "number_sections": true,
   "sideBar": true,
   "skip_h1_title": false,
   "title_cell": "Table of Contents",
   "title_sidebar": "Contents",
   "toc_cell": false,
   "toc_position": {
    "height": "calc(100% - 180px)",
    "left": "10px",
    "top": "150px",
    "width": "181px"
   },
   "toc_section_display": true,
   "toc_window_display": true
  }
 },
 "nbformat": 4,
 "nbformat_minor": 2
}
