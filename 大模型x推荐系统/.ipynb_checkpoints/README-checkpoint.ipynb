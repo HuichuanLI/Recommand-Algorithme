{
 "cells": [
  {
   "cell_type": "markdown",
   "id": "c457cc26-9398-4864-b61b-956b6a9f3246",
   "metadata": {},
   "source": [
    "# 目标\n",
    "\n",
    "目标：简单实现一个基于大模型的新闻推荐系统"
   ]
  },
  {
   "cell_type": "markdown",
   "id": "80c1298a-0370-4981-b797-f6aaa45b292e",
   "metadata": {},
   "source": [
    "Q：大模型在推荐系统中能做什么？（LLM in Rec? ）\n",
    "\n",
    "A：\n",
    "\n",
    "![image.png](assets/img.png)\n",
    "\n",
    "我们的应用程序主要用了 LLM for 特征工程、LLM for 特征编码、LLM for 打分排序\n",
    "\n",
    "> 参考链接：\n",
    "> \n",
    "> [大语言模型在推荐系统的实践应用](https://mp.weixin.qq.com/s/pUrqdglF26ww1nDK9hANTA)"
   ]
  },
  {
   "cell_type": "markdown",
   "id": "e0e9ec79-6e05-4343-9768-7607dfdbec4d",
   "metadata": {},
   "source": [
    "# 数据集\n",
    "## MIND: Microsoft News Recommendation Dataset\n",
    "\n",
    "官网：https://msnews.github.io\n",
    "\n",
    "论文：https://msnews.github.io/assets/doc/ACL2020_MIND.pdf\n",
    "\n",
    "阿里天池对数据集MIND的介绍：https://tianchi.aliyun.com/dataset/89539\n",
    "\n",
    "\n",
    "> MIcrosoft News Dataset （MIND） 是一个**用于新闻推荐研究**的大规模数据集。它是从Microsoft新闻网站的匿名行为日志中收集的。MIND的使命是作为新闻推荐的基准数据集，促进新闻推荐和推荐系统领域的研究。\n",
    "\n",
    "> MIND包含约160k篇英文**新闻文章**和100万用户产生的超过1500万条**展示日志**。\n",
    "> 每篇新闻文章都包含丰富的文本内容，包括标题、摘要、正文、类别和实体。\n",
    "> \n",
    "> 每个展示日志都包含该用户在本次展示前的点击事件、未点击事件和历史新闻点击行为。为了保护用户隐私，当安全地散列到匿名 ID 时，每个用户都会与生产系统取消链接。\n",
    ">"
   ]
  },
  {
   "cell_type": "markdown",
   "id": "0b53fd26-ba7e-4265-bfae-30231a2bee68",
   "metadata": {},
   "source": [
    "- MINDsmall_train.zip\n",
    "  - news.tsv：新闻文章的信息\n",
    "  - behaviors.tsv：用户的点击历史和印象日志\n",
    "  - entity_embedding.vec：从知识图中提取的新闻中的实体嵌入\n",
    "  - lation_embedding.vec：从知识图中提取的实体之间的关系的嵌入"
   ]
  },
  {
   "cell_type": "markdown",
   "id": "1db82e17-1a18-4fd9-a3be-d8f23649ccaa",
   "metadata": {},
   "source": [
    "### news.tsv\n",
    "\n",
    "新闻文章的详细信息。有7列：\n",
    "\n",
    "- News ID 新闻编号\n",
    "- Category 类别\n",
    "- SubCategory 子类别\n",
    "- Title 标题\n",
    "- Abstract 摘要\n",
    "- URL 新闻网址\n",
    "- Title Entities (entities contained in the title of this news)\n",
    "- 标题实体（本新闻标题中包含的实体）\n",
    "- Abstract Entities (entites contained in the abstract of this news)\n",
    "- 摘要实体（本新闻摘要中包含的实体）"
   ]
  },
  {
   "cell_type": "code",
   "execution_count": 1,
   "id": "09afec21-d39a-41d8-ac21-27b827fdccf8",
   "metadata": {},
   "outputs": [],
   "source": [
    "import pandas as pd"
   ]
  },
  {
   "cell_type": "code",
   "execution_count": 2,
   "id": "ae4de335-e546-4363-9721-4b708d60fda9",
   "metadata": {},
   "outputs": [],
   "source": [
    "# 设置显示的列宽为 None，以显示完整文本列内容\n",
    "pd.set_option('display.max_colwidth', None)"
   ]
  },
  {
   "cell_type": "code",
   "execution_count": 5,
   "id": "23125f70-4351-4b07-93fb-bf0fcf8bdd11",
   "metadata": {},
   "outputs": [],
   "source": [
    "df_news = pd.read_csv(\n",
    "    './MIND/MINDsmall_train/news.tsv',\n",
    "    names=[\"news_id\", \"category\", \"sub_category\", \"title\", \"abstract\", \"url\", \"title_entities\", \"abstract_entities\"],\n",
    "    sep='\\t',\n",
    "    header=None\n",
    ")"
   ]
  },
  {
   "cell_type": "code",
   "execution_count": 6,
   "id": "f735ec96-fac0-4a51-9093-a8aa71aea827",
   "metadata": {},
   "outputs": [
    {
     "data": {
      "text/html": [
       "<div>\n",
       "<style scoped>\n",
       "    .dataframe tbody tr th:only-of-type {\n",
       "        vertical-align: middle;\n",
       "    }\n",
       "\n",
       "    .dataframe tbody tr th {\n",
       "        vertical-align: top;\n",
       "    }\n",
       "\n",
       "    .dataframe thead th {\n",
       "        text-align: right;\n",
       "    }\n",
       "</style>\n",
       "<table border=\"1\" class=\"dataframe\">\n",
       "  <thead>\n",
       "    <tr style=\"text-align: right;\">\n",
       "      <th></th>\n",
       "      <th>news_id</th>\n",
       "      <th>category</th>\n",
       "      <th>sub_category</th>\n",
       "      <th>title</th>\n",
       "      <th>abstract</th>\n",
       "      <th>url</th>\n",
       "      <th>title_entities</th>\n",
       "      <th>abstract_entities</th>\n",
       "    </tr>\n",
       "  </thead>\n",
       "  <tbody>\n",
       "    <tr>\n",
       "      <th>0</th>\n",
       "      <td>N55528</td>\n",
       "      <td>lifestyle</td>\n",
       "      <td>lifestyleroyals</td>\n",
       "      <td>The Brands Queen Elizabeth, Prince Charles, and Prince Philip Swear By</td>\n",
       "      <td>Shop the notebooks, jackets, and more that the royals can't live without.</td>\n",
       "      <td>https://assets.msn.com/labs/mind/AAGH0ET.html</td>\n",
       "      <td>[{\"Label\": \"Prince Philip, Duke of Edinburgh\", \"Type\": \"P\", \"WikidataId\": \"Q80976\", \"Confidence\": 1.0, \"OccurrenceOffsets\": [48], \"SurfaceForms\": [\"Prince Philip\"]}, {\"Label\": \"Charles, Prince of Wales\", \"Type\": \"P\", \"WikidataId\": \"Q43274\", \"Confidence\": 1.0, \"OccurrenceOffsets\": [28], \"SurfaceForms\": [\"Prince Charles\"]}, {\"Label\": \"Elizabeth II\", \"Type\": \"P\", \"WikidataId\": \"Q9682\", \"Confidence\": 0.97, \"OccurrenceOffsets\": [11], \"SurfaceForms\": [\"Queen Elizabeth\"]}]</td>\n",
       "      <td>[]</td>\n",
       "    </tr>\n",
       "    <tr>\n",
       "      <th>1</th>\n",
       "      <td>N19639</td>\n",
       "      <td>health</td>\n",
       "      <td>weightloss</td>\n",
       "      <td>50 Worst Habits For Belly Fat</td>\n",
       "      <td>These seemingly harmless habits are holding you back and keeping you from shedding that unwanted belly fat for good.</td>\n",
       "      <td>https://assets.msn.com/labs/mind/AAB19MK.html</td>\n",
       "      <td>[{\"Label\": \"Adipose tissue\", \"Type\": \"C\", \"WikidataId\": \"Q193583\", \"Confidence\": 1.0, \"OccurrenceOffsets\": [20], \"SurfaceForms\": [\"Belly Fat\"]}]</td>\n",
       "      <td>[{\"Label\": \"Adipose tissue\", \"Type\": \"C\", \"WikidataId\": \"Q193583\", \"Confidence\": 1.0, \"OccurrenceOffsets\": [97], \"SurfaceForms\": [\"belly fat\"]}]</td>\n",
       "    </tr>\n",
       "  </tbody>\n",
       "</table>\n",
       "</div>"
      ],
      "text/plain": [
       "  news_id   category     sub_category  \\\n",
       "0  N55528  lifestyle  lifestyleroyals   \n",
       "1  N19639     health       weightloss   \n",
       "\n",
       "                                                                    title  \\\n",
       "0  The Brands Queen Elizabeth, Prince Charles, and Prince Philip Swear By   \n",
       "1                                           50 Worst Habits For Belly Fat   \n",
       "\n",
       "                                                                                                               abstract  \\\n",
       "0                                             Shop the notebooks, jackets, and more that the royals can't live without.   \n",
       "1  These seemingly harmless habits are holding you back and keeping you from shedding that unwanted belly fat for good.   \n",
       "\n",
       "                                             url  \\\n",
       "0  https://assets.msn.com/labs/mind/AAGH0ET.html   \n",
       "1  https://assets.msn.com/labs/mind/AAB19MK.html   \n",
       "\n",
       "                                                                                                                                                                                                                                                                                                                                                                                                                                                                           title_entities  \\\n",
       "0  [{\"Label\": \"Prince Philip, Duke of Edinburgh\", \"Type\": \"P\", \"WikidataId\": \"Q80976\", \"Confidence\": 1.0, \"OccurrenceOffsets\": [48], \"SurfaceForms\": [\"Prince Philip\"]}, {\"Label\": \"Charles, Prince of Wales\", \"Type\": \"P\", \"WikidataId\": \"Q43274\", \"Confidence\": 1.0, \"OccurrenceOffsets\": [28], \"SurfaceForms\": [\"Prince Charles\"]}, {\"Label\": \"Elizabeth II\", \"Type\": \"P\", \"WikidataId\": \"Q9682\", \"Confidence\": 0.97, \"OccurrenceOffsets\": [11], \"SurfaceForms\": [\"Queen Elizabeth\"]}]   \n",
       "1                                                                                                                                                                                                                                                                                                                                        [{\"Label\": \"Adipose tissue\", \"Type\": \"C\", \"WikidataId\": \"Q193583\", \"Confidence\": 1.0, \"OccurrenceOffsets\": [20], \"SurfaceForms\": [\"Belly Fat\"]}]   \n",
       "\n",
       "                                                                                                                                  abstract_entities  \n",
       "0                                                                                                                                                []  \n",
       "1  [{\"Label\": \"Adipose tissue\", \"Type\": \"C\", \"WikidataId\": \"Q193583\", \"Confidence\": 1.0, \"OccurrenceOffsets\": [97], \"SurfaceForms\": [\"belly fat\"]}]  "
      ]
     },
     "execution_count": 6,
     "metadata": {},
     "output_type": "execute_result"
    }
   ],
   "source": [
    "df_news.head(2)"
   ]
  },
  {
   "cell_type": "code",
   "execution_count": 7,
   "id": "e8af2f5c-3c88-472d-80e1-992d11d1e4d7",
   "metadata": {},
   "outputs": [
    {
     "data": {
      "text/plain": [
       "news_id                                                                                                                                                                                                                                                                                                                                                                                                                                                                                              N55528\n",
       "category                                                                                                                                                                                                                                                                                                                                                                                                                                                                                          lifestyle\n",
       "sub_category                                                                                                                                                                                                                                                                                                                                                                                                                                                                                lifestyleroyals\n",
       "title                                                                                                                                                                                                                                                                                                                                                                                                                                The Brands Queen Elizabeth, Prince Charles, and Prince Philip Swear By\n",
       "abstract                                                                                                                                                                                                                                                                                                                                                                                                                          Shop the notebooks, jackets, and more that the royals can't live without.\n",
       "url                                                                                                                                                                                                                                                                                                                                                                                                                                                           https://assets.msn.com/labs/mind/AAGH0ET.html\n",
       "title_entities       [{\"Label\": \"Prince Philip, Duke of Edinburgh\", \"Type\": \"P\", \"WikidataId\": \"Q80976\", \"Confidence\": 1.0, \"OccurrenceOffsets\": [48], \"SurfaceForms\": [\"Prince Philip\"]}, {\"Label\": \"Charles, Prince of Wales\", \"Type\": \"P\", \"WikidataId\": \"Q43274\", \"Confidence\": 1.0, \"OccurrenceOffsets\": [28], \"SurfaceForms\": [\"Prince Charles\"]}, {\"Label\": \"Elizabeth II\", \"Type\": \"P\", \"WikidataId\": \"Q9682\", \"Confidence\": 0.97, \"OccurrenceOffsets\": [11], \"SurfaceForms\": [\"Queen Elizabeth\"]}]\n",
       "abstract_entities                                                                                                                                                                                                                                                                                                                                                                                                                                                                                        []\n",
       "Name: 0, dtype: object"
      ]
     },
     "execution_count": 7,
     "metadata": {},
     "output_type": "execute_result"
    }
   ],
   "source": [
    "df_news.iloc[0]"
   ]
  },
  {
   "cell_type": "code",
   "execution_count": 8,
   "id": "37a211bd-8693-42b2-90ab-4c8b1c2b86cf",
   "metadata": {},
   "outputs": [
    {
     "name": "stdout",
     "output_type": "stream",
     "text": [
      "<class 'pandas.core.frame.DataFrame'>\n",
      "RangeIndex: 51282 entries, 0 to 51281\n",
      "Data columns (total 8 columns):\n",
      " #   Column             Non-Null Count  Dtype \n",
      "---  ------             --------------  ----- \n",
      " 0   news_id            51282 non-null  object\n",
      " 1   category           51282 non-null  object\n",
      " 2   sub_category       51282 non-null  object\n",
      " 3   title              51282 non-null  object\n",
      " 4   abstract           48616 non-null  object\n",
      " 5   url                51282 non-null  object\n",
      " 6   title_entities     51279 non-null  object\n",
      " 7   abstract_entities  51278 non-null  object\n",
      "dtypes: object(8)\n",
      "memory usage: 3.1+ MB\n"
     ]
    }
   ],
   "source": [
    "df_news.info()"
   ]
  },
  {
   "cell_type": "code",
   "execution_count": 9,
   "id": "e8452079-80b1-44bf-9490-58c4454352c7",
   "metadata": {},
   "outputs": [
    {
     "data": {
      "text/html": [
       "<div>\n",
       "<style scoped>\n",
       "    .dataframe tbody tr th:only-of-type {\n",
       "        vertical-align: middle;\n",
       "    }\n",
       "\n",
       "    .dataframe tbody tr th {\n",
       "        vertical-align: top;\n",
       "    }\n",
       "\n",
       "    .dataframe thead th {\n",
       "        text-align: right;\n",
       "    }\n",
       "</style>\n",
       "<table border=\"1\" class=\"dataframe\">\n",
       "  <thead>\n",
       "    <tr style=\"text-align: right;\">\n",
       "      <th></th>\n",
       "      <th>news_id</th>\n",
       "      <th>category</th>\n",
       "      <th>sub_category</th>\n",
       "      <th>title</th>\n",
       "      <th>abstract</th>\n",
       "      <th>url</th>\n",
       "      <th>title_entities</th>\n",
       "      <th>abstract_entities</th>\n",
       "    </tr>\n",
       "  </thead>\n",
       "  <tbody>\n",
       "    <tr>\n",
       "      <th>count</th>\n",
       "      <td>51282</td>\n",
       "      <td>51282</td>\n",
       "      <td>51282</td>\n",
       "      <td>51282</td>\n",
       "      <td>48616</td>\n",
       "      <td>51282</td>\n",
       "      <td>51279</td>\n",
       "      <td>51278</td>\n",
       "    </tr>\n",
       "    <tr>\n",
       "      <th>unique</th>\n",
       "      <td>51282</td>\n",
       "      <td>17</td>\n",
       "      <td>264</td>\n",
       "      <td>50434</td>\n",
       "      <td>47309</td>\n",
       "      <td>51281</td>\n",
       "      <td>34472</td>\n",
       "      <td>36277</td>\n",
       "    </tr>\n",
       "    <tr>\n",
       "      <th>top</th>\n",
       "      <td>N55528</td>\n",
       "      <td>news</td>\n",
       "      <td>newsus</td>\n",
       "      <td>Photos of the Day</td>\n",
       "      <td>What's the weather today? What's the weather for the week? Here's your forecast.</td>\n",
       "      <td>[]</td>\n",
       "      <td>[]</td>\n",
       "      <td>[]</td>\n",
       "    </tr>\n",
       "    <tr>\n",
       "      <th>freq</th>\n",
       "      <td>1</td>\n",
       "      <td>15774</td>\n",
       "      <td>6564</td>\n",
       "      <td>15</td>\n",
       "      <td>124</td>\n",
       "      <td>2</td>\n",
       "      <td>13842</td>\n",
       "      <td>13825</td>\n",
       "    </tr>\n",
       "  </tbody>\n",
       "</table>\n",
       "</div>"
      ],
      "text/plain": [
       "       news_id category sub_category              title  \\\n",
       "count    51282    51282        51282              51282   \n",
       "unique   51282       17          264              50434   \n",
       "top     N55528     news       newsus  Photos of the Day   \n",
       "freq         1    15774         6564                 15   \n",
       "\n",
       "                                                                                abstract  \\\n",
       "count                                                                              48616   \n",
       "unique                                                                             47309   \n",
       "top     What's the weather today? What's the weather for the week? Here's your forecast.   \n",
       "freq                                                                                 124   \n",
       "\n",
       "          url title_entities abstract_entities  \n",
       "count   51282          51279             51278  \n",
       "unique  51281          34472             36277  \n",
       "top        []             []                []  \n",
       "freq        2          13842             13825  "
      ]
     },
     "execution_count": 9,
     "metadata": {},
     "output_type": "execute_result"
    }
   ],
   "source": [
    "df_news.describe()"
   ]
  },
  {
   "cell_type": "code",
   "execution_count": null,
   "id": "b9101a0c-0490-4f7d-b84a-2e1db099596d",
   "metadata": {},
   "outputs": [],
   "source": []
  },
  {
   "cell_type": "code",
   "execution_count": null,
   "id": "962de83d-b6eb-4a89-9bf9-057621cb886a",
   "metadata": {},
   "outputs": [],
   "source": []
  },
  {
   "cell_type": "code",
   "execution_count": 10,
   "id": "d6bdcf72-8de2-4767-827f-d349d4a6de43",
   "metadata": {},
   "outputs": [],
   "source": [
    "# 设置显示的列宽为 None，以显示完整文本列内容\n",
    "pd.set_option('display.max_colwidth', None)"
   ]
  },
  {
   "cell_type": "code",
   "execution_count": 11,
   "id": "8aa2a4fe-27aa-40c0-9c58-af5e19131d31",
   "metadata": {},
   "outputs": [],
   "source": [
    "df_news = pd.read_csv(\n",
    "    './MIND/MINDsmall_train/news.tsv',\n",
    "    names=[\"news_id\", \"category\", \"sub_category\", \"title\", \"abstract\", \"url\", \"title_entities\", \"abstract_entities\"],\n",
    "    sep='\\t',\n",
    "    header=None\n",
    ")"
   ]
  },
  {
   "cell_type": "code",
   "execution_count": 12,
   "id": "88749267-3b27-4843-b929-59d125c7ccf9",
   "metadata": {},
   "outputs": [
    {
     "data": {
      "text/html": [
       "<div>\n",
       "<style scoped>\n",
       "    .dataframe tbody tr th:only-of-type {\n",
       "        vertical-align: middle;\n",
       "    }\n",
       "\n",
       "    .dataframe tbody tr th {\n",
       "        vertical-align: top;\n",
       "    }\n",
       "\n",
       "    .dataframe thead th {\n",
       "        text-align: right;\n",
       "    }\n",
       "</style>\n",
       "<table border=\"1\" class=\"dataframe\">\n",
       "  <thead>\n",
       "    <tr style=\"text-align: right;\">\n",
       "      <th></th>\n",
       "      <th>news_id</th>\n",
       "      <th>category</th>\n",
       "      <th>sub_category</th>\n",
       "      <th>title</th>\n",
       "      <th>abstract</th>\n",
       "      <th>url</th>\n",
       "      <th>title_entities</th>\n",
       "      <th>abstract_entities</th>\n",
       "    </tr>\n",
       "  </thead>\n",
       "  <tbody>\n",
       "    <tr>\n",
       "      <th>0</th>\n",
       "      <td>N55528</td>\n",
       "      <td>lifestyle</td>\n",
       "      <td>lifestyleroyals</td>\n",
       "      <td>The Brands Queen Elizabeth, Prince Charles, and Prince Philip Swear By</td>\n",
       "      <td>Shop the notebooks, jackets, and more that the royals can't live without.</td>\n",
       "      <td>https://assets.msn.com/labs/mind/AAGH0ET.html</td>\n",
       "      <td>[{\"Label\": \"Prince Philip, Duke of Edinburgh\", \"Type\": \"P\", \"WikidataId\": \"Q80976\", \"Confidence\": 1.0, \"OccurrenceOffsets\": [48], \"SurfaceForms\": [\"Prince Philip\"]}, {\"Label\": \"Charles, Prince of Wales\", \"Type\": \"P\", \"WikidataId\": \"Q43274\", \"Confidence\": 1.0, \"OccurrenceOffsets\": [28], \"SurfaceForms\": [\"Prince Charles\"]}, {\"Label\": \"Elizabeth II\", \"Type\": \"P\", \"WikidataId\": \"Q9682\", \"Confidence\": 0.97, \"OccurrenceOffsets\": [11], \"SurfaceForms\": [\"Queen Elizabeth\"]}]</td>\n",
       "      <td>[]</td>\n",
       "    </tr>\n",
       "    <tr>\n",
       "      <th>1</th>\n",
       "      <td>N19639</td>\n",
       "      <td>health</td>\n",
       "      <td>weightloss</td>\n",
       "      <td>50 Worst Habits For Belly Fat</td>\n",
       "      <td>These seemingly harmless habits are holding you back and keeping you from shedding that unwanted belly fat for good.</td>\n",
       "      <td>https://assets.msn.com/labs/mind/AAB19MK.html</td>\n",
       "      <td>[{\"Label\": \"Adipose tissue\", \"Type\": \"C\", \"WikidataId\": \"Q193583\", \"Confidence\": 1.0, \"OccurrenceOffsets\": [20], \"SurfaceForms\": [\"Belly Fat\"]}]</td>\n",
       "      <td>[{\"Label\": \"Adipose tissue\", \"Type\": \"C\", \"WikidataId\": \"Q193583\", \"Confidence\": 1.0, \"OccurrenceOffsets\": [97], \"SurfaceForms\": [\"belly fat\"]}]</td>\n",
       "    </tr>\n",
       "    <tr>\n",
       "      <th>2</th>\n",
       "      <td>N61837</td>\n",
       "      <td>news</td>\n",
       "      <td>newsworld</td>\n",
       "      <td>The Cost of Trump's Aid Freeze in the Trenches of Ukraine's War</td>\n",
       "      <td>Lt. Ivan Molchanets peeked over a parapet of sand bags at the front line of the war in Ukraine. Next to him was an empty helmet propped up to trick snipers, already perforated with multiple holes.</td>\n",
       "      <td>https://assets.msn.com/labs/mind/AAJgNsz.html</td>\n",
       "      <td>[]</td>\n",
       "      <td>[{\"Label\": \"Ukraine\", \"Type\": \"G\", \"WikidataId\": \"Q212\", \"Confidence\": 0.946, \"OccurrenceOffsets\": [87], \"SurfaceForms\": [\"Ukraine\"]}]</td>\n",
       "    </tr>\n",
       "  </tbody>\n",
       "</table>\n",
       "</div>"
      ],
      "text/plain": [
       "  news_id   category     sub_category  \\\n",
       "0  N55528  lifestyle  lifestyleroyals   \n",
       "1  N19639     health       weightloss   \n",
       "2  N61837       news        newsworld   \n",
       "\n",
       "                                                                    title  \\\n",
       "0  The Brands Queen Elizabeth, Prince Charles, and Prince Philip Swear By   \n",
       "1                                           50 Worst Habits For Belly Fat   \n",
       "2         The Cost of Trump's Aid Freeze in the Trenches of Ukraine's War   \n",
       "\n",
       "                                                                                                                                                                                               abstract  \\\n",
       "0                                                                                                                             Shop the notebooks, jackets, and more that the royals can't live without.   \n",
       "1                                                                                  These seemingly harmless habits are holding you back and keeping you from shedding that unwanted belly fat for good.   \n",
       "2  Lt. Ivan Molchanets peeked over a parapet of sand bags at the front line of the war in Ukraine. Next to him was an empty helmet propped up to trick snipers, already perforated with multiple holes.   \n",
       "\n",
       "                                             url  \\\n",
       "0  https://assets.msn.com/labs/mind/AAGH0ET.html   \n",
       "1  https://assets.msn.com/labs/mind/AAB19MK.html   \n",
       "2  https://assets.msn.com/labs/mind/AAJgNsz.html   \n",
       "\n",
       "                                                                                                                                                                                                                                                                                                                                                                                                                                                                           title_entities  \\\n",
       "0  [{\"Label\": \"Prince Philip, Duke of Edinburgh\", \"Type\": \"P\", \"WikidataId\": \"Q80976\", \"Confidence\": 1.0, \"OccurrenceOffsets\": [48], \"SurfaceForms\": [\"Prince Philip\"]}, {\"Label\": \"Charles, Prince of Wales\", \"Type\": \"P\", \"WikidataId\": \"Q43274\", \"Confidence\": 1.0, \"OccurrenceOffsets\": [28], \"SurfaceForms\": [\"Prince Charles\"]}, {\"Label\": \"Elizabeth II\", \"Type\": \"P\", \"WikidataId\": \"Q9682\", \"Confidence\": 0.97, \"OccurrenceOffsets\": [11], \"SurfaceForms\": [\"Queen Elizabeth\"]}]   \n",
       "1                                                                                                                                                                                                                                                                                                                                        [{\"Label\": \"Adipose tissue\", \"Type\": \"C\", \"WikidataId\": \"Q193583\", \"Confidence\": 1.0, \"OccurrenceOffsets\": [20], \"SurfaceForms\": [\"Belly Fat\"]}]   \n",
       "2                                                                                                                                                                                                                                                                                                                                                                                                                                                                                      []   \n",
       "\n",
       "                                                                                                                                  abstract_entities  \n",
       "0                                                                                                                                                []  \n",
       "1  [{\"Label\": \"Adipose tissue\", \"Type\": \"C\", \"WikidataId\": \"Q193583\", \"Confidence\": 1.0, \"OccurrenceOffsets\": [97], \"SurfaceForms\": [\"belly fat\"]}]  \n",
       "2            [{\"Label\": \"Ukraine\", \"Type\": \"G\", \"WikidataId\": \"Q212\", \"Confidence\": 0.946, \"OccurrenceOffsets\": [87], \"SurfaceForms\": [\"Ukraine\"]}]  "
      ]
     },
     "execution_count": 12,
     "metadata": {},
     "output_type": "execute_result"
    }
   ],
   "source": [
    "df_news.head(3)"
   ]
  },
  {
   "cell_type": "code",
   "execution_count": 13,
   "id": "0b67f1c1-225a-42da-b6cb-790d5962089d",
   "metadata": {},
   "outputs": [
    {
     "data": {
      "text/plain": [
       "news_id                                                                                                                                                                                                                                                                                                                                                                                                                                                                                              N55528\n",
       "category                                                                                                                                                                                                                                                                                                                                                                                                                                                                                          lifestyle\n",
       "sub_category                                                                                                                                                                                                                                                                                                                                                                                                                                                                                lifestyleroyals\n",
       "title                                                                                                                                                                                                                                                                                                                                                                                                                                The Brands Queen Elizabeth, Prince Charles, and Prince Philip Swear By\n",
       "abstract                                                                                                                                                                                                                                                                                                                                                                                                                          Shop the notebooks, jackets, and more that the royals can't live without.\n",
       "url                                                                                                                                                                                                                                                                                                                                                                                                                                                           https://assets.msn.com/labs/mind/AAGH0ET.html\n",
       "title_entities       [{\"Label\": \"Prince Philip, Duke of Edinburgh\", \"Type\": \"P\", \"WikidataId\": \"Q80976\", \"Confidence\": 1.0, \"OccurrenceOffsets\": [48], \"SurfaceForms\": [\"Prince Philip\"]}, {\"Label\": \"Charles, Prince of Wales\", \"Type\": \"P\", \"WikidataId\": \"Q43274\", \"Confidence\": 1.0, \"OccurrenceOffsets\": [28], \"SurfaceForms\": [\"Prince Charles\"]}, {\"Label\": \"Elizabeth II\", \"Type\": \"P\", \"WikidataId\": \"Q9682\", \"Confidence\": 0.97, \"OccurrenceOffsets\": [11], \"SurfaceForms\": [\"Queen Elizabeth\"]}]\n",
       "abstract_entities                                                                                                                                                                                                                                                                                                                                                                                                                                                                                        []\n",
       "Name: 0, dtype: object"
      ]
     },
     "execution_count": 13,
     "metadata": {},
     "output_type": "execute_result"
    }
   ],
   "source": [
    "df_news.iloc[0]"
   ]
  },
  {
   "cell_type": "code",
   "execution_count": 14,
   "id": "58ff64af-988d-4fdd-8ab3-2263606ebbc8",
   "metadata": {},
   "outputs": [
    {
     "name": "stdout",
     "output_type": "stream",
     "text": [
      "<class 'pandas.core.frame.DataFrame'>\n",
      "RangeIndex: 51282 entries, 0 to 51281\n",
      "Data columns (total 8 columns):\n",
      " #   Column             Non-Null Count  Dtype \n",
      "---  ------             --------------  ----- \n",
      " 0   news_id            51282 non-null  object\n",
      " 1   category           51282 non-null  object\n",
      " 2   sub_category       51282 non-null  object\n",
      " 3   title              51282 non-null  object\n",
      " 4   abstract           48616 non-null  object\n",
      " 5   url                51282 non-null  object\n",
      " 6   title_entities     51279 non-null  object\n",
      " 7   abstract_entities  51278 non-null  object\n",
      "dtypes: object(8)\n",
      "memory usage: 3.1+ MB\n"
     ]
    }
   ],
   "source": [
    "df_news.info()"
   ]
  },
  {
   "cell_type": "code",
   "execution_count": 15,
   "id": "2a1f9521-f631-4654-a5c0-d8b9fdc2927f",
   "metadata": {},
   "outputs": [
    {
     "data": {
      "text/html": [
       "<div>\n",
       "<style scoped>\n",
       "    .dataframe tbody tr th:only-of-type {\n",
       "        vertical-align: middle;\n",
       "    }\n",
       "\n",
       "    .dataframe tbody tr th {\n",
       "        vertical-align: top;\n",
       "    }\n",
       "\n",
       "    .dataframe thead th {\n",
       "        text-align: right;\n",
       "    }\n",
       "</style>\n",
       "<table border=\"1\" class=\"dataframe\">\n",
       "  <thead>\n",
       "    <tr style=\"text-align: right;\">\n",
       "      <th></th>\n",
       "      <th>news_id</th>\n",
       "      <th>category</th>\n",
       "      <th>sub_category</th>\n",
       "      <th>title</th>\n",
       "      <th>abstract</th>\n",
       "      <th>url</th>\n",
       "      <th>title_entities</th>\n",
       "      <th>abstract_entities</th>\n",
       "    </tr>\n",
       "  </thead>\n",
       "  <tbody>\n",
       "    <tr>\n",
       "      <th>count</th>\n",
       "      <td>51282</td>\n",
       "      <td>51282</td>\n",
       "      <td>51282</td>\n",
       "      <td>51282</td>\n",
       "      <td>48616</td>\n",
       "      <td>51282</td>\n",
       "      <td>51279</td>\n",
       "      <td>51278</td>\n",
       "    </tr>\n",
       "    <tr>\n",
       "      <th>unique</th>\n",
       "      <td>51282</td>\n",
       "      <td>17</td>\n",
       "      <td>264</td>\n",
       "      <td>50434</td>\n",
       "      <td>47309</td>\n",
       "      <td>51281</td>\n",
       "      <td>34472</td>\n",
       "      <td>36277</td>\n",
       "    </tr>\n",
       "    <tr>\n",
       "      <th>top</th>\n",
       "      <td>N55528</td>\n",
       "      <td>news</td>\n",
       "      <td>newsus</td>\n",
       "      <td>Photos of the Day</td>\n",
       "      <td>What's the weather today? What's the weather for the week? Here's your forecast.</td>\n",
       "      <td>[]</td>\n",
       "      <td>[]</td>\n",
       "      <td>[]</td>\n",
       "    </tr>\n",
       "    <tr>\n",
       "      <th>freq</th>\n",
       "      <td>1</td>\n",
       "      <td>15774</td>\n",
       "      <td>6564</td>\n",
       "      <td>15</td>\n",
       "      <td>124</td>\n",
       "      <td>2</td>\n",
       "      <td>13842</td>\n",
       "      <td>13825</td>\n",
       "    </tr>\n",
       "  </tbody>\n",
       "</table>\n",
       "</div>"
      ],
      "text/plain": [
       "       news_id category sub_category              title  \\\n",
       "count    51282    51282        51282              51282   \n",
       "unique   51282       17          264              50434   \n",
       "top     N55528     news       newsus  Photos of the Day   \n",
       "freq         1    15774         6564                 15   \n",
       "\n",
       "                                                                                abstract  \\\n",
       "count                                                                              48616   \n",
       "unique                                                                             47309   \n",
       "top     What's the weather today? What's the weather for the week? Here's your forecast.   \n",
       "freq                                                                                 124   \n",
       "\n",
       "          url title_entities abstract_entities  \n",
       "count   51282          51279             51278  \n",
       "unique  51281          34472             36277  \n",
       "top        []             []                []  \n",
       "freq        2          13842             13825  "
      ]
     },
     "execution_count": 15,
     "metadata": {},
     "output_type": "execute_result"
    }
   ],
   "source": [
    "df_news.describe()"
   ]
  },
  {
   "cell_type": "markdown",
   "id": "bdcd087c-dfda-4aa1-8844-335277bfe926",
   "metadata": {},
   "source": [
    "### behaviors.tsv\n",
    "\n",
    "The click histories and impression logs of users\n",
    "\n",
    "用户的点击记录和展示日志\n",
    "\n",
    "- Impression ID. The ID of an impression.\n",
    "    - 展示 ID。展示的 ID。\n",
    "- User ID. The anonymous ID of a user.\n",
    "    - 用户 ID。用户的匿名 ID。\n",
    "- Time. The impression time with format \"MM/DD/YYYY HH:MM:SS AM/PM\".\n",
    "    - 时间。格式为“MM/DD/YYYY HH：MM：SS AM/PM”的展示时间。\n",
    "- History. The news click history (ID list of clicked news) of this user before this impression. The clicked news articles are ordered by time.\n",
    "    - 历史。此用户在此展示之前的新闻点击记录（点击新闻的 ID 列表）。点击的新闻文章按时间排序。\n",
    "- Impressions. List of news displayed in this impression and user's click behaviors on them (1 for click and 0 for non-click). The orders of news in a impressions have been shuffled.\n",
    "    - 展示。此展示中显示的新闻列表以及用户在这些新闻上的点击行为（1 表示点击，0 表示未点击）。展示中的新闻顺序被洗牌了。"
   ]
  },
  {
   "cell_type": "code",
   "execution_count": null,
   "id": "fbbbb39f-bddf-4a5f-b9ff-08c245c73d44",
   "metadata": {},
   "outputs": [],
   "source": []
  },
  {
   "cell_type": "code",
   "execution_count": 17,
   "id": "51963ad0-377d-4249-9767-c4bfe8ff2cdf",
   "metadata": {},
   "outputs": [],
   "source": [
    "# 行为数据\n",
    "df_behaviors = pd.read_csv('./MIND/MINDsmall_train/behaviors.tsv', \n",
    "                           names=[\"impression_id\", \"user_id\", \"time\", \"click_history\", \"impression_lpg\"],\n",
    "                           sep='\\t', \n",
    "                           header=None)"
   ]
  },
  {
   "cell_type": "code",
   "execution_count": 18,
   "id": "f0f398b8-04cd-4929-8a29-a0a273877d26",
   "metadata": {},
   "outputs": [
    {
     "data": {
      "text/html": [
       "<div>\n",
       "<style scoped>\n",
       "    .dataframe tbody tr th:only-of-type {\n",
       "        vertical-align: middle;\n",
       "    }\n",
       "\n",
       "    .dataframe tbody tr th {\n",
       "        vertical-align: top;\n",
       "    }\n",
       "\n",
       "    .dataframe thead th {\n",
       "        text-align: right;\n",
       "    }\n",
       "</style>\n",
       "<table border=\"1\" class=\"dataframe\">\n",
       "  <thead>\n",
       "    <tr style=\"text-align: right;\">\n",
       "      <th></th>\n",
       "      <th>impression_id</th>\n",
       "      <th>user_id</th>\n",
       "      <th>time</th>\n",
       "      <th>click_history</th>\n",
       "      <th>impression_lpg</th>\n",
       "    </tr>\n",
       "  </thead>\n",
       "  <tbody>\n",
       "    <tr>\n",
       "      <th>0</th>\n",
       "      <td>1</td>\n",
       "      <td>U13740</td>\n",
       "      <td>11/11/2019 9:05:58 AM</td>\n",
       "      <td>N55189 N42782 N34694 N45794 N18445 N63302 N10414 N19347 N31801</td>\n",
       "      <td>N55689-1 N35729-0</td>\n",
       "    </tr>\n",
       "    <tr>\n",
       "      <th>1</th>\n",
       "      <td>2</td>\n",
       "      <td>U91836</td>\n",
       "      <td>11/12/2019 6:11:30 PM</td>\n",
       "      <td>N31739 N6072 N63045 N23979 N35656 N43353 N8129 N1569 N17686 N13008 N21623 N6233 N14340 N48031 N62285 N44383 N23061 N16290 N6244 N45099 N58715 N59049 N7023 N50528 N42704 N46082 N8275 N15710 N59026 N8429 N30867 N56514 N19709 N31402 N31741 N54889 N9798 N62612 N2663 N16617 N6087 N13231 N63317 N61388 N59359 N51163 N30698 N34567 N54225 N32852 N55833 N64467 N3142 N13912 N29802 N44462 N29948 N4486 N5398 N14761 N47020 N65112 N31699 N37159 N61101 N14761 N3433 N10438 N61355 N21164 N22976 N2511 N48390 N58224 N48742 N35458 N24611 N37509 N21773 N41011 N19041 N25785</td>\n",
       "      <td>N20678-0 N39317-0 N58114-0 N20495-0 N42977-0 N22407-0 N14592-0 N17059-1 N33677-0 N7821-0 N6890-0</td>\n",
       "    </tr>\n",
       "  </tbody>\n",
       "</table>\n",
       "</div>"
      ],
      "text/plain": [
       "   impression_id user_id                   time  \\\n",
       "0              1  U13740  11/11/2019 9:05:58 AM   \n",
       "1              2  U91836  11/12/2019 6:11:30 PM   \n",
       "\n",
       "                                                                                                                                                                                                                                                                                                                                                                                                                                                                                                                                                                   click_history  \\\n",
       "0                                                                                                                                                                                                                                                                                                                                                                                                                                                                                                                 N55189 N42782 N34694 N45794 N18445 N63302 N10414 N19347 N31801   \n",
       "1  N31739 N6072 N63045 N23979 N35656 N43353 N8129 N1569 N17686 N13008 N21623 N6233 N14340 N48031 N62285 N44383 N23061 N16290 N6244 N45099 N58715 N59049 N7023 N50528 N42704 N46082 N8275 N15710 N59026 N8429 N30867 N56514 N19709 N31402 N31741 N54889 N9798 N62612 N2663 N16617 N6087 N13231 N63317 N61388 N59359 N51163 N30698 N34567 N54225 N32852 N55833 N64467 N3142 N13912 N29802 N44462 N29948 N4486 N5398 N14761 N47020 N65112 N31699 N37159 N61101 N14761 N3433 N10438 N61355 N21164 N22976 N2511 N48390 N58224 N48742 N35458 N24611 N37509 N21773 N41011 N19041 N25785   \n",
       "\n",
       "                                                                                     impression_lpg  \n",
       "0                                                                                 N55689-1 N35729-0  \n",
       "1  N20678-0 N39317-0 N58114-0 N20495-0 N42977-0 N22407-0 N14592-0 N17059-1 N33677-0 N7821-0 N6890-0  "
      ]
     },
     "execution_count": 18,
     "metadata": {},
     "output_type": "execute_result"
    }
   ],
   "source": [
    "df_behaviors.head(2)"
   ]
  },
  {
   "cell_type": "code",
   "execution_count": 19,
   "id": "daddffa4-dd71-4c35-8fa8-1a46054e7fb5",
   "metadata": {},
   "outputs": [
    {
     "data": {
      "text/plain": [
       "impression_id                                                                  1\n",
       "user_id                                                                   U13740\n",
       "time                                                       11/11/2019 9:05:58 AM\n",
       "click_history     N55189 N42782 N34694 N45794 N18445 N63302 N10414 N19347 N31801\n",
       "impression_lpg                                                 N55689-1 N35729-0\n",
       "Name: 0, dtype: object"
      ]
     },
     "execution_count": 19,
     "metadata": {},
     "output_type": "execute_result"
    }
   ],
   "source": [
    "df_behaviors.iloc[0]"
   ]
  },
  {
   "cell_type": "code",
   "execution_count": 20,
   "id": "47a2b127-d354-4d8a-be1d-c1e8c76140b4",
   "metadata": {},
   "outputs": [
    {
     "name": "stdout",
     "output_type": "stream",
     "text": [
      "<class 'pandas.core.frame.DataFrame'>\n",
      "RangeIndex: 156965 entries, 0 to 156964\n",
      "Data columns (total 5 columns):\n",
      " #   Column          Non-Null Count   Dtype \n",
      "---  ------          --------------   ----- \n",
      " 0   impression_id   156965 non-null  int64 \n",
      " 1   user_id         156965 non-null  object\n",
      " 2   time            156965 non-null  object\n",
      " 3   click_history   153727 non-null  object\n",
      " 4   impression_lpg  156965 non-null  object\n",
      "dtypes: int64(1), object(4)\n",
      "memory usage: 6.0+ MB\n"
     ]
    }
   ],
   "source": [
    "df_behaviors.info()"
   ]
  },
  {
   "cell_type": "code",
   "execution_count": 21,
   "id": "0b4085b4-9f9f-418e-aa0b-26fa0e8a4861",
   "metadata": {},
   "outputs": [
    {
     "data": {
      "text/html": [
       "<div>\n",
       "<style scoped>\n",
       "    .dataframe tbody tr th:only-of-type {\n",
       "        vertical-align: middle;\n",
       "    }\n",
       "\n",
       "    .dataframe tbody tr th {\n",
       "        vertical-align: top;\n",
       "    }\n",
       "\n",
       "    .dataframe thead th {\n",
       "        text-align: right;\n",
       "    }\n",
       "</style>\n",
       "<table border=\"1\" class=\"dataframe\">\n",
       "  <thead>\n",
       "    <tr style=\"text-align: right;\">\n",
       "      <th></th>\n",
       "      <th>impression_id</th>\n",
       "    </tr>\n",
       "  </thead>\n",
       "  <tbody>\n",
       "    <tr>\n",
       "      <th>count</th>\n",
       "      <td>156965.000000</td>\n",
       "    </tr>\n",
       "    <tr>\n",
       "      <th>mean</th>\n",
       "      <td>78483.000000</td>\n",
       "    </tr>\n",
       "    <tr>\n",
       "      <th>std</th>\n",
       "      <td>45312.036839</td>\n",
       "    </tr>\n",
       "    <tr>\n",
       "      <th>min</th>\n",
       "      <td>1.000000</td>\n",
       "    </tr>\n",
       "    <tr>\n",
       "      <th>25%</th>\n",
       "      <td>39242.000000</td>\n",
       "    </tr>\n",
       "    <tr>\n",
       "      <th>50%</th>\n",
       "      <td>78483.000000</td>\n",
       "    </tr>\n",
       "    <tr>\n",
       "      <th>75%</th>\n",
       "      <td>117724.000000</td>\n",
       "    </tr>\n",
       "    <tr>\n",
       "      <th>max</th>\n",
       "      <td>156965.000000</td>\n",
       "    </tr>\n",
       "  </tbody>\n",
       "</table>\n",
       "</div>"
      ],
      "text/plain": [
       "       impression_id\n",
       "count  156965.000000\n",
       "mean    78483.000000\n",
       "std     45312.036839\n",
       "min         1.000000\n",
       "25%     39242.000000\n",
       "50%     78483.000000\n",
       "75%    117724.000000\n",
       "max    156965.000000"
      ]
     },
     "execution_count": 21,
     "metadata": {},
     "output_type": "execute_result"
    }
   ],
   "source": [
    "df_behaviors.describe()"
   ]
  },
  {
   "cell_type": "code",
   "execution_count": null,
   "id": "653f9920-ed03-4ba3-980c-907249466511",
   "metadata": {},
   "outputs": [],
   "source": []
  },
  {
   "cell_type": "code",
   "execution_count": 22,
   "id": "7e65bae2-47c0-4dce-8d55-9bc893ddc134",
   "metadata": {},
   "outputs": [
    {
     "name": "stdout",
     "output_type": "stream",
     "text": [
      "50000\n"
     ]
    },
    {
     "data": {
      "text/plain": [
       "array(['U13740', 'U91836', 'U73700', ..., 'U43157', 'U66493', 'U72015'],\n",
       "      dtype=object)"
      ]
     },
     "execution_count": 22,
     "metadata": {},
     "output_type": "execute_result"
    }
   ],
   "source": [
    "unique_user_ids = df_behaviors['user_id'].unique()\n",
    "print(len(unique_user_ids))\n",
    "unique_user_ids"
   ]
  },
  {
   "cell_type": "code",
   "execution_count": null,
   "id": "3510c5d1-cde2-44ef-b8f7-bdbc38bbc4b6",
   "metadata": {},
   "outputs": [],
   "source": []
  },
  {
   "cell_type": "markdown",
   "id": "f039f945-8e67-414b-95f8-3b956f3fc8b4",
   "metadata": {},
   "source": [
    "### entity_embedding.vec和 lation_embedding.vec\n",
    "\n",
    "entity_embedding.vec和lation_embedding.vec文件包含通过TransE方法从子图（从WikiData知识图）获知的实体和关系的100维嵌入。在两个文件中，第一列是实体/关系的ID，其他列是嵌入矢量值。我们希望这些数据可以促进对知识意识新闻推荐的研究。"
   ]
  },
  {
   "cell_type": "code",
   "execution_count": 23,
   "id": "a075f2bf-704f-457e-b052-532c541095e1",
   "metadata": {},
   "outputs": [
    {
     "name": "stdout",
     "output_type": "stream",
     "text": [
      "Word: Q41, Vector: [-0.063388, -0.181451, 0.057501, -0.091254, -0.076217, -0.052525, 0.0505, -0.224871, -0.018145, 0.030722, 0.064276, 0.073063, 0.039489, 0.159404, -0.128784, 0.016325, 0.026797, 0.13709, 0.001849, -0.059103, 0.012091, 0.045418, 0.000591, 0.211337, -0.034093, -0.074582, 0.014004, -0.099355, 0.170144, 0.109376, -0.014797, 0.071172, 0.080375, 0.045563, -0.046462, 0.070108, 0.015413, -0.020874, -0.170324, -0.00113, 0.05981, 0.054342, 0.027358, -0.028995, -0.224508, 0.066281, -0.200006, 0.018186, 0.082396, 0.167178, -0.136239, 0.055134, -0.080195, -0.00146, 0.031078, -0.017084, -0.091176, -0.036916, 0.124642, -0.098185, -0.054836, 0.152483, -0.053712, 0.092816, -0.112044, -0.072247, -0.114896, -0.036541, -0.186339, -0.16061, 0.037342, -0.133474, 0.11008, 0.070678, -0.005586, -0.046667, -0.07201, 0.086424, 0.026165, 0.030561, 0.077888, -0.117226, 0.211597, 0.112512, 0.079999, -0.083398, -0.121117, 0.071751, -0.017654, -0.134979, -0.051949, 0.001861, 0.124535, -0.151043, -0.263698, -0.103607, 0.020007, -0.101157, -0.091567, 0.035234]\n"
     ]
    }
   ],
   "source": [
    "# 设置.vec 文件路径\n",
    "vec_file_path = './MIND/MINDsmall_train/entity_embedding.vec'\n",
    "\n",
    "# 读取 .vec 文件\n",
    "with open(vec_file_path, 'r', encoding='utf-8') as file:\n",
    "    \n",
    "    # 逐行读取词向量\n",
    "    for line in file:\n",
    "        # print(line)\n",
    "        line = line.strip()\n",
    "        parts = line.split('\\t')\n",
    "        # print(parts)\n",
    "        word = parts[0]\n",
    "        vector = [float(value) for value in parts[1:]]\n",
    "        print(f'Word: {word}, Vector: {vector}')\n",
    "        \n",
    "        # 如果要查找特定单词的向量，可以在这里添加条件\n",
    "        if word == 'Q41':\n",
    "            break"
   ]
  },
  {
   "cell_type": "code",
   "execution_count": 24,
   "id": "88902162-33f6-49a2-91be-a1896ff694a9",
   "metadata": {},
   "outputs": [
    {
     "name": "stdout",
     "output_type": "stream",
     "text": [
      "Word: P31, Vector: [-0.073467, -0.132227, 0.034173, -0.032769, 0.008289, -0.107088, -0.031712, -0.039581, 0.101882, -0.106961, -0.053441, 0.068202, -0.045584, -0.140448, -0.079402, 0.001022, 0.059921, -0.06251, 0.102848, 0.077947, -0.063644, 0.05007, -0.01918, 0.064456, -0.052222, 0.071078, -0.036413, -0.039235, 0.137947, 0.067378, -0.137468, 0.103482, 0.121755, -0.006587, 0.063077, -0.024954, -0.0313, -0.056833, -0.139115, -0.05357, 0.165815, -0.022143, 0.006561, -0.108691, -0.149139, 0.080943, 0.054542, -0.034564, 0.082343, -0.095843, -0.068758, 0.01385, -0.025589, -0.012451, 0.116367, -0.066981, -0.006472, 0.136078, -0.057084, -0.066427, -0.035916, -0.028447, -0.070395, -0.052364, -0.040038, 0.037342, -0.073347, 0.112529, 0.106537, 0.107426, 0.086297, 0.085833, 0.054393, 0.053187, 0.066242, 0.058507, -0.04718, -0.086089, 0.050148, 0.053491, -0.04237, -0.110435, -0.058929, 0.063987, -0.037393, -0.057942, -0.032128, 0.141226, -0.106979, 0.072183, -0.045641, -0.050068, -0.053686, -0.045389, -0.037017, 0.11719, -0.063597, -0.05691, 0.058387, -0.114056]\n"
     ]
    }
   ],
   "source": [
    "# 设置.vec 文件路径\n",
    "vec_file_path = './MIND/MINDsmall_train/relation_embedding.vec'\n",
    "\n",
    "# 读取 .vec 文件\n",
    "with open(vec_file_path, 'r', encoding='utf-8') as file:\n",
    "    \n",
    "    # 逐行读取词向量\n",
    "    for line in file:\n",
    "        # print(line)\n",
    "        line = line.strip()\n",
    "        parts = line.split('\\t')\n",
    "        # print(parts)\n",
    "        word = parts[0]\n",
    "        vector = [float(value) for value in parts[1:]]\n",
    "        print(f'Word: {word}, Vector: {vector}')\n",
    "        \n",
    "        # 如果要查找特定单词的向量，可以在这里添加条件\n",
    "        if word == 'P31':\n",
    "            break\n"
   ]
  },
  {
   "cell_type": "code",
   "execution_count": null,
   "id": "2e2fb168-0a1c-4662-99ae-d01ae8e2c233",
   "metadata": {},
   "outputs": [],
   "source": []
  },
  {
   "cell_type": "markdown",
   "id": "2ca5c13b-48d2-47ba-9919-2564ef5ca3e5",
   "metadata": {},
   "source": [
    "# 系统实现思路\n",
    "\n",
    "![img.png](assets/palr.png)\n",
    "\n",
    "> 图片来源 PALR: https://arxiv.org/abs/2305.07622\n",
    "\n",
    "为一个用户做新闻推荐：基于当前用户的行为信息，猜测他的偏好，该系统能推荐与偏好相似的新闻文章。\n",
    "\n",
    "- 循环 df_behaviors 的每一行，每一行都是一条用户行为记录，想基于用户行为记录信息去做推荐。\n",
    "- 排序算法\n",
    "  - 基于点击历史、用户画像、候选集，用prompt进行排序\n",
    "    - 点击历史：从用户行为记录中获取当前用户的点击历史，点击历史即新闻ID列表，可以基于新闻ID去 df_news 查询新闻的详细信息。\n",
    "    - 用户画像：基于点击过的新闻详细信息字符串设计一个prompt，llm输出用户画像（例如：用户爱看的主题和关注的地区）\n",
    "    - 候选集：利用召回算法从大量的新闻文章里筛选出来\n",
    "- 召回算法\n",
    "  - 第一轮筛选：规则筛选，几千篇\n",
    "    - 从用户的点击历史中统计出当前用户的（新闻类别，新闻子类别）偏好组合，只筛选符合该组合的新闻\n",
    "  - 第二轮筛选：向量相似度筛选，20篇\n",
    "    - 用户画像字符串去做embedding作为user_emb\n",
    "    - 大量新闻文章向量化后存入向量库等待被检索，news_emb\n",
    "    - 用户画像得到的user_emb 与 news_emb做相似度计算，只取前20篇\n"
   ]
  },
  {
   "cell_type": "code",
   "execution_count": null,
   "id": "cb66242c-4a90-4fa9-b6d9-2c6cbe9e76ca",
   "metadata": {},
   "outputs": [],
   "source": []
  },
  {
   "cell_type": "markdown",
   "id": "f710f8f3-6b3f-4fdf-a1f0-5f139a397315",
   "metadata": {},
   "source": [
    "## LLM for 特征工程\n",
    "\n",
    "论文地址：https://arxiv.org/pdf/2305.06566v4.pdf\n",
    "\n",
    "![image.png](assets/3prompt.png)\n",
    "\n",
    "\n",
    "该工作（GENRE）在新闻推荐的场景下，用 LLM 构造了三个不同的prompts，分别来进行新闻摘要的改写，用户画像的构建，还有样本增强。\n",
    "\n",
    "首先可以看到它把新闻的title， abstract 还有category 当作输入，然后要求大语言模型来生成一个摘要，把这个摘要当作这个新闻的 new feature输入下游。\n",
    "\n",
    "然后是用户画像，根据用户过去观看过的新闻的标题，尝试去问大语言模型是否知道这个用户的一些感兴趣的topic，也就是用户的喜好和他所在的位置。\n",
    "\n",
    "另外，因为有一些用户看过的新闻非常少，所以用大语言模型来做一些样本的扩充。这里是把用户看过的一些新闻的category，还有 title 输入到大语言模型里面去，希望大语言模型能够根据他看过的这些新闻，生成出来一些用户并没有看过，但可能感兴趣的“伪新闻”，然后把这些“伪”交互数据也当作训练集的一部分来进行训练。\n",
    "\n",
    "实验表明这些手段都可以增强原始推荐的效果。"
   ]
  },
  {
   "cell_type": "code",
   "execution_count": null,
   "id": "eaf9cf9a-5e09-4126-b14d-30934b3a3652",
   "metadata": {},
   "outputs": [],
   "source": []
  },
  {
   "cell_type": "markdown",
   "id": "4aa7cfff-7c29-42f7-8d81-faae8ca472c1",
   "metadata": {},
   "source": [
    "## LLM for 特征编码\n",
    "\n",
    "评测embedding模型：https://huggingface.co/spaces/mteb/leaderboard\n",
    "\n",
    "我们选择的embedding模型：https://huggingface.co/DMetaSoul/Dmeta-embedding"
   ]
  },
  {
   "cell_type": "code",
   "execution_count": null,
   "id": "5b474958-4a0b-4042-b353-bda643160950",
   "metadata": {},
   "outputs": [],
   "source": []
  },
  {
   "cell_type": "markdown",
   "id": "a0109199-d94e-4d6d-8f92-7ffa6b5a380c",
   "metadata": {},
   "source": [
    "## LLM for 打分排序\n",
    "\n",
    "Chat-REC: https://arxiv.org/pdf/2303.14524.pdf\n",
    "\n",
    "![image.png](assets/rank.png)\n",
    "\n"
   ]
  },
  {
   "cell_type": "code",
   "execution_count": null,
   "id": "d4ebd1f3-51ba-48e5-ac0c-72eddefb1c40",
   "metadata": {},
   "outputs": [],
   "source": []
  },
  {
   "cell_type": "code",
   "execution_count": null,
   "id": "0835a137-bdd0-440b-aff1-65e78485572e",
   "metadata": {},
   "outputs": [],
   "source": []
  }
 ],
 "metadata": {
  "kernelspec": {
   "display_name": "Python 3 (ipykernel)",
   "language": "python",
   "name": "python3"
  },
  "language_info": {
   "codemirror_mode": {
    "name": "ipython",
    "version": 3
   },
   "file_extension": ".py",
   "mimetype": "text/x-python",
   "name": "python",
   "nbconvert_exporter": "python",
   "pygments_lexer": "ipython3",
   "version": "3.9.13"
  }
 },
 "nbformat": 4,
 "nbformat_minor": 5
}
